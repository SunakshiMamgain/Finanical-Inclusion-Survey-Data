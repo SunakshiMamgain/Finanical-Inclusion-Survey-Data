{
 "cells": [
  {
   "cell_type": "markdown",
   "metadata": {},
   "source": [
    "Financial Inclusion remains one of the main obstacles to economic and human development in Africa. For example, across Kenya, Rwanda, Tanzania, and Uganda only 9.1 million adults (or 13.9% of the adult population) have access to or use a commercial bank account.\n",
    "\n",
    "Traditionally, access to bank accounts has been regarded as an indicator of financial inclusion. Despite the proliferation of mobile money in Africa, and the growth of innovative fintech solutions, banks still play a pivotal role in facilitating access to financial services. Access to bank accounts enable households to save and facilitate payments while also helping businesses build up their credit-worthiness and improve their access to other finance services. Therefore, access to bank accounts is an essential contributor to long-term economic growth.\n",
    "\n",
    "The objective of this competition is to create a machine learning model to predict which individuals are most likely to have or use a bank account. The models and solutions developed can provide an indication of the state of financial inclusion in Kenya, Rwanda, Tanzania and Uganda, while providing insights into some of the key demographic factors that might drive individuals’ financial outcomes."
   ]
  },
  {
   "cell_type": "markdown",
   "metadata": {},
   "source": [
    "# Finanical Inclusion Survey Data\n",
    "\n",
    "The main dataset contains demographic information and what financial services are used by approximately 33,610 individuals across East Africa. This data was extracted from various Finscope surveys ranging from 2016 to 2018.\n",
    "\n",
    "The data have been split between training and test sets. The test set contains all information about each individual except for whether the respondent has a bank account or not.\n",
    "\n",
    "Your goal is to accurately predict the likelihood that an individual has a bank account or not, i.e. Yes = 1, No = 0."
   ]
  },
  {
   "cell_type": "markdown",
   "metadata": {},
   "source": [
    "# About the data\n",
    "\n",
    "You are asked to make predictions for each unique id in the test dataset about the likelihood of the person having a bank account. You will train your model on 70% of the data and test your model on the final 30% of the data.\n",
    "\n",
    "* Train.csv is 70% of the data, across the four East African countries (i.e. Kenya, Rwanda, Tanzania, and Uganda)\n",
    "* Test.csv is 30% of the complete dataset across the East African countries.\n",
    "* VariableDefinitions.csv is the full list of variables and their explanations.\n",
    "* SubmissionSubmission.csv is an example of what your submission file should look like. Note that the variable unique_id in the submission file is:\n",
    "\n",
    " uniqueid + \" x \" + country name\n",
    " \n",
    "The order of the rows does not matter, but the names of the unique_id's must be correct. The column \"bank_account\" is your prediction of the likelihood of the user having a bank account.\n",
    "\n",
    "Two or more countries could have the same unique_id, this is why your submission file needs to have uniqueid x country."
   ]
  },
  {
   "cell_type": "markdown",
   "metadata": {},
   "source": [
    "# Importing the Dataset"
   ]
  },
  {
   "cell_type": "code",
   "execution_count": 1,
   "metadata": {},
   "outputs": [],
   "source": [
    "import pandas as pd\n",
    "import numpy as np\n",
    "\n",
    "df= pd.read_csv('TrainDataset.csv')"
   ]
  },
  {
   "cell_type": "code",
   "execution_count": 2,
   "metadata": {
    "scrolled": true
   },
   "outputs": [
    {
     "data": {
      "text/html": [
       "<div>\n",
       "<style scoped>\n",
       "    .dataframe tbody tr th:only-of-type {\n",
       "        vertical-align: middle;\n",
       "    }\n",
       "\n",
       "    .dataframe tbody tr th {\n",
       "        vertical-align: top;\n",
       "    }\n",
       "\n",
       "    .dataframe thead th {\n",
       "        text-align: right;\n",
       "    }\n",
       "</style>\n",
       "<table border=\"1\" class=\"dataframe\">\n",
       "  <thead>\n",
       "    <tr style=\"text-align: right;\">\n",
       "      <th></th>\n",
       "      <th>country</th>\n",
       "      <th>year</th>\n",
       "      <th>uniqueid</th>\n",
       "      <th>bank_account</th>\n",
       "      <th>location_type</th>\n",
       "      <th>cellphone_access</th>\n",
       "      <th>household_size</th>\n",
       "      <th>age_of_respondent</th>\n",
       "      <th>gender_of_respondent</th>\n",
       "      <th>relationship_with_head</th>\n",
       "      <th>marital_status</th>\n",
       "      <th>education_level</th>\n",
       "      <th>job_type</th>\n",
       "    </tr>\n",
       "  </thead>\n",
       "  <tbody>\n",
       "    <tr>\n",
       "      <th>0</th>\n",
       "      <td>Tanzania</td>\n",
       "      <td>2017</td>\n",
       "      <td>uniqueid_3293</td>\n",
       "      <td>No</td>\n",
       "      <td>Rural</td>\n",
       "      <td>No</td>\n",
       "      <td>2</td>\n",
       "      <td>18</td>\n",
       "      <td>Female</td>\n",
       "      <td>Child</td>\n",
       "      <td>Divorced/Seperated</td>\n",
       "      <td>Tertiary education</td>\n",
       "      <td>Remittance Dependent</td>\n",
       "    </tr>\n",
       "    <tr>\n",
       "      <th>1</th>\n",
       "      <td>Tanzania</td>\n",
       "      <td>2017</td>\n",
       "      <td>uniqueid_4423</td>\n",
       "      <td>No</td>\n",
       "      <td>Urban</td>\n",
       "      <td>Yes</td>\n",
       "      <td>2</td>\n",
       "      <td>22</td>\n",
       "      <td>Female</td>\n",
       "      <td>Spouse</td>\n",
       "      <td>Single/Never Married</td>\n",
       "      <td>Primary education</td>\n",
       "      <td>Self employed</td>\n",
       "    </tr>\n",
       "    <tr>\n",
       "      <th>2</th>\n",
       "      <td>Rwanda</td>\n",
       "      <td>2016</td>\n",
       "      <td>uniqueid_8196</td>\n",
       "      <td>No</td>\n",
       "      <td>Rural</td>\n",
       "      <td>Yes</td>\n",
       "      <td>4</td>\n",
       "      <td>31</td>\n",
       "      <td>Male</td>\n",
       "      <td>Head of Household</td>\n",
       "      <td>Married/Living together</td>\n",
       "      <td>Primary education</td>\n",
       "      <td>Farming and Fishing</td>\n",
       "    </tr>\n",
       "    <tr>\n",
       "      <th>3</th>\n",
       "      <td>Uganda</td>\n",
       "      <td>2018</td>\n",
       "      <td>uniqueid_803</td>\n",
       "      <td>No</td>\n",
       "      <td>Rural</td>\n",
       "      <td>No</td>\n",
       "      <td>1</td>\n",
       "      <td>56</td>\n",
       "      <td>Male</td>\n",
       "      <td>Head of Household</td>\n",
       "      <td>Single/Never Married</td>\n",
       "      <td>Primary education</td>\n",
       "      <td>Self employed</td>\n",
       "    </tr>\n",
       "    <tr>\n",
       "      <th>4</th>\n",
       "      <td>Rwanda</td>\n",
       "      <td>2016</td>\n",
       "      <td>uniqueid_8418</td>\n",
       "      <td>No</td>\n",
       "      <td>Rural</td>\n",
       "      <td>Yes</td>\n",
       "      <td>5</td>\n",
       "      <td>36</td>\n",
       "      <td>Male</td>\n",
       "      <td>Head of Household</td>\n",
       "      <td>Married/Living together</td>\n",
       "      <td>No formal education</td>\n",
       "      <td>Farming and Fishing</td>\n",
       "    </tr>\n",
       "    <tr>\n",
       "      <th>...</th>\n",
       "      <td>...</td>\n",
       "      <td>...</td>\n",
       "      <td>...</td>\n",
       "      <td>...</td>\n",
       "      <td>...</td>\n",
       "      <td>...</td>\n",
       "      <td>...</td>\n",
       "      <td>...</td>\n",
       "      <td>...</td>\n",
       "      <td>...</td>\n",
       "      <td>...</td>\n",
       "      <td>...</td>\n",
       "      <td>...</td>\n",
       "    </tr>\n",
       "    <tr>\n",
       "      <th>18814</th>\n",
       "      <td>Rwanda</td>\n",
       "      <td>2016</td>\n",
       "      <td>uniqueid_8478</td>\n",
       "      <td>No</td>\n",
       "      <td>Rural</td>\n",
       "      <td>Yes</td>\n",
       "      <td>2</td>\n",
       "      <td>67</td>\n",
       "      <td>Female</td>\n",
       "      <td>Head of Household</td>\n",
       "      <td>Widowed</td>\n",
       "      <td>No formal education</td>\n",
       "      <td>Remittance Dependent</td>\n",
       "    </tr>\n",
       "    <tr>\n",
       "      <th>18815</th>\n",
       "      <td>Rwanda</td>\n",
       "      <td>2016</td>\n",
       "      <td>uniqueid_7486</td>\n",
       "      <td>No</td>\n",
       "      <td>Rural</td>\n",
       "      <td>Yes</td>\n",
       "      <td>3</td>\n",
       "      <td>25</td>\n",
       "      <td>Male</td>\n",
       "      <td>Head of Household</td>\n",
       "      <td>Married/Living together</td>\n",
       "      <td>Primary education</td>\n",
       "      <td>Farming and Fishing</td>\n",
       "    </tr>\n",
       "    <tr>\n",
       "      <th>18816</th>\n",
       "      <td>Rwanda</td>\n",
       "      <td>2016</td>\n",
       "      <td>uniqueid_6068</td>\n",
       "      <td>No</td>\n",
       "      <td>Rural</td>\n",
       "      <td>Yes</td>\n",
       "      <td>7</td>\n",
       "      <td>16</td>\n",
       "      <td>Male</td>\n",
       "      <td>Child</td>\n",
       "      <td>Single/Never Married</td>\n",
       "      <td>Primary education</td>\n",
       "      <td>Farming and Fishing</td>\n",
       "    </tr>\n",
       "    <tr>\n",
       "      <th>18817</th>\n",
       "      <td>Kenya</td>\n",
       "      <td>2018</td>\n",
       "      <td>uniqueid_4274</td>\n",
       "      <td>No</td>\n",
       "      <td>Rural</td>\n",
       "      <td>Yes</td>\n",
       "      <td>1</td>\n",
       "      <td>81</td>\n",
       "      <td>Female</td>\n",
       "      <td>Head of Household</td>\n",
       "      <td>Widowed</td>\n",
       "      <td>No formal education</td>\n",
       "      <td>Farming and Fishing</td>\n",
       "    </tr>\n",
       "    <tr>\n",
       "      <th>18818</th>\n",
       "      <td>Rwanda</td>\n",
       "      <td>2016</td>\n",
       "      <td>uniqueid_6637</td>\n",
       "      <td>No</td>\n",
       "      <td>Rural</td>\n",
       "      <td>Yes</td>\n",
       "      <td>3</td>\n",
       "      <td>21</td>\n",
       "      <td>Male</td>\n",
       "      <td>Child</td>\n",
       "      <td>Single/Never Married</td>\n",
       "      <td>Primary education</td>\n",
       "      <td>Farming and Fishing</td>\n",
       "    </tr>\n",
       "  </tbody>\n",
       "</table>\n",
       "<p>18819 rows × 13 columns</p>\n",
       "</div>"
      ],
      "text/plain": [
       "        country  year       uniqueid bank_account location_type  \\\n",
       "0      Tanzania  2017  uniqueid_3293           No         Rural   \n",
       "1      Tanzania  2017  uniqueid_4423           No         Urban   \n",
       "2        Rwanda  2016  uniqueid_8196           No         Rural   \n",
       "3        Uganda  2018   uniqueid_803           No         Rural   \n",
       "4        Rwanda  2016  uniqueid_8418           No         Rural   \n",
       "...         ...   ...            ...          ...           ...   \n",
       "18814    Rwanda  2016  uniqueid_8478           No         Rural   \n",
       "18815    Rwanda  2016  uniqueid_7486           No         Rural   \n",
       "18816    Rwanda  2016  uniqueid_6068           No         Rural   \n",
       "18817     Kenya  2018  uniqueid_4274           No         Rural   \n",
       "18818    Rwanda  2016  uniqueid_6637           No         Rural   \n",
       "\n",
       "      cellphone_access  household_size  age_of_respondent  \\\n",
       "0                   No               2                 18   \n",
       "1                  Yes               2                 22   \n",
       "2                  Yes               4                 31   \n",
       "3                   No               1                 56   \n",
       "4                  Yes               5                 36   \n",
       "...                ...             ...                ...   \n",
       "18814              Yes               2                 67   \n",
       "18815              Yes               3                 25   \n",
       "18816              Yes               7                 16   \n",
       "18817              Yes               1                 81   \n",
       "18818              Yes               3                 21   \n",
       "\n",
       "      gender_of_respondent relationship_with_head           marital_status  \\\n",
       "0                   Female                  Child       Divorced/Seperated   \n",
       "1                   Female                 Spouse     Single/Never Married   \n",
       "2                     Male      Head of Household  Married/Living together   \n",
       "3                     Male      Head of Household     Single/Never Married   \n",
       "4                     Male      Head of Household  Married/Living together   \n",
       "...                    ...                    ...                      ...   \n",
       "18814               Female      Head of Household                  Widowed   \n",
       "18815                 Male      Head of Household  Married/Living together   \n",
       "18816                 Male                  Child     Single/Never Married   \n",
       "18817               Female      Head of Household                  Widowed   \n",
       "18818                 Male                  Child     Single/Never Married   \n",
       "\n",
       "           education_level              job_type  \n",
       "0       Tertiary education  Remittance Dependent  \n",
       "1        Primary education         Self employed  \n",
       "2        Primary education   Farming and Fishing  \n",
       "3        Primary education         Self employed  \n",
       "4      No formal education   Farming and Fishing  \n",
       "...                    ...                   ...  \n",
       "18814  No formal education  Remittance Dependent  \n",
       "18815    Primary education   Farming and Fishing  \n",
       "18816    Primary education   Farming and Fishing  \n",
       "18817  No formal education   Farming and Fishing  \n",
       "18818    Primary education   Farming and Fishing  \n",
       "\n",
       "[18819 rows x 13 columns]"
      ]
     },
     "execution_count": 2,
     "metadata": {},
     "output_type": "execute_result"
    }
   ],
   "source": [
    "df"
   ]
  },
  {
   "cell_type": "code",
   "execution_count": 3,
   "metadata": {},
   "outputs": [
    {
     "name": "stdout",
     "output_type": "stream",
     "text": [
      "<class 'pandas.core.frame.DataFrame'>\n",
      "RangeIndex: 18819 entries, 0 to 18818\n",
      "Data columns (total 13 columns):\n",
      "country                   18819 non-null object\n",
      "year                      18819 non-null int64\n",
      "uniqueid                  18819 non-null object\n",
      "bank_account              18819 non-null object\n",
      "location_type             18819 non-null object\n",
      "cellphone_access          18819 non-null object\n",
      "household_size            18819 non-null int64\n",
      "age_of_respondent         18819 non-null int64\n",
      "gender_of_respondent      18819 non-null object\n",
      "relationship_with_head    18819 non-null object\n",
      "marital_status            18819 non-null object\n",
      "education_level           18819 non-null object\n",
      "job_type                  18819 non-null object\n",
      "dtypes: int64(3), object(10)\n",
      "memory usage: 1.9+ MB\n"
     ]
    }
   ],
   "source": [
    "df.info()"
   ]
  },
  {
   "cell_type": "markdown",
   "metadata": {},
   "source": [
    "We have 13 columns in the dataset."
   ]
  },
  {
   "cell_type": "markdown",
   "metadata": {},
   "source": [
    "# Pre-Processing and EDA using Pandas Profiling package"
   ]
  },
  {
   "cell_type": "code",
   "execution_count": 4,
   "metadata": {},
   "outputs": [
    {
     "name": "stdout",
     "output_type": "stream",
     "text": [
      "Requirement already satisfied: pandas-profiling in c:\\users\\sk074909\\anaconda3\\envs\\rython\\lib\\site-packages (2.8.0)\n",
      "Requirement already satisfied: scipy>=1.4.1 in c:\\users\\sk074909\\anaconda3\\envs\\rython\\lib\\site-packages (from pandas-profiling) (1.4.1)\n",
      "Requirement already satisfied: htmlmin>=0.1.12 in c:\\users\\sk074909\\anaconda3\\envs\\rython\\lib\\site-packages (from pandas-profiling) (0.1.12)\n",
      "Requirement already satisfied: visions[type_image_path]==0.4.4 in c:\\users\\sk074909\\anaconda3\\envs\\rython\\lib\\site-packages (from pandas-profiling) (0.4.4)\n",
      "Requirement already satisfied: numpy>=1.16.0 in c:\\users\\sk074909\\appdata\\roaming\\python\\python37\\site-packages (from pandas-profiling) (1.18.1)\n",
      "Requirement already satisfied: pandas!=1.0.0,!=1.0.1,!=1.0.2,>=0.25.3 in c:\\users\\sk074909\\appdata\\roaming\\python\\python37\\site-packages (from pandas-profiling) (0.25.3)\n",
      "Requirement already satisfied: phik>=0.9.10 in c:\\users\\sk074909\\anaconda3\\envs\\rython\\lib\\site-packages (from pandas-profiling) (0.10.0)\n",
      "Requirement already satisfied: jinja2>=2.11.1 in c:\\users\\sk074909\\anaconda3\\envs\\rython\\lib\\site-packages (from pandas-profiling) (2.11.2)\n",
      "Requirement already satisfied: astropy>=4.0 in c:\\users\\sk074909\\anaconda3\\envs\\rython\\lib\\site-packages (from pandas-profiling) (4.0.1.post1)\n",
      "Requirement already satisfied: ipywidgets>=7.5.1 in c:\\users\\sk074909\\anaconda3\\envs\\rython\\lib\\site-packages (from pandas-profiling) (7.5.1)\n",
      "Requirement already satisfied: tangled-up-in-unicode>=0.0.6 in c:\\users\\sk074909\\anaconda3\\envs\\rython\\lib\\site-packages (from pandas-profiling) (0.0.6)\n",
      "Requirement already satisfied: tqdm>=4.43.0 in c:\\users\\sk074909\\anaconda3\\envs\\rython\\lib\\site-packages (from pandas-profiling) (4.46.0)\n",
      "Requirement already satisfied: requests>=2.23.0 in c:\\users\\sk074909\\anaconda3\\envs\\rython\\lib\\site-packages (from pandas-profiling) (2.23.0)\n",
      "Requirement already satisfied: matplotlib>=3.2.0 in c:\\users\\sk074909\\anaconda3\\envs\\rython\\lib\\site-packages (from pandas-profiling) (3.2.1)\n",
      "Requirement already satisfied: joblib in c:\\users\\sk074909\\anaconda3\\envs\\rython\\lib\\site-packages (from pandas-profiling) (0.15.1)\n",
      "Requirement already satisfied: confuse>=1.0.0 in c:\\users\\sk074909\\anaconda3\\envs\\rython\\lib\\site-packages (from pandas-profiling) (1.1.0)\n",
      "Requirement already satisfied: missingno>=0.4.2 in c:\\users\\sk074909\\anaconda3\\envs\\rython\\lib\\site-packages (from pandas-profiling) (0.4.2)\n",
      "Requirement already satisfied: attrs>=19.3.0 in c:\\users\\sk074909\\anaconda3\\envs\\rython\\lib\\site-packages (from visions[type_image_path]==0.4.4->pandas-profiling) (19.3.0)\n",
      "Requirement already satisfied: networkx>=2.4 in c:\\users\\sk074909\\anaconda3\\envs\\rython\\lib\\site-packages (from visions[type_image_path]==0.4.4->pandas-profiling) (2.4)\n",
      "Requirement already satisfied: Pillow; extra == \"type_image_path\" in c:\\users\\sk074909\\anaconda3\\envs\\rython\\lib\\site-packages (from visions[type_image_path]==0.4.4->pandas-profiling) (7.1.2)\n",
      "Requirement already satisfied: imagehash; extra == \"type_image_path\" in c:\\users\\sk074909\\anaconda3\\envs\\rython\\lib\\site-packages (from visions[type_image_path]==0.4.4->pandas-profiling) (4.1.0)\n",
      "Requirement already satisfied: python-dateutil>=2.6.1 in c:\\users\\sk074909\\anaconda3\\envs\\rython\\lib\\site-packages (from pandas!=1.0.0,!=1.0.1,!=1.0.2,>=0.25.3->pandas-profiling) (2.8.1)\n",
      "Requirement already satisfied: pytz>=2017.2 in c:\\users\\sk074909\\anaconda3\\envs\\rython\\lib\\site-packages (from pandas!=1.0.0,!=1.0.1,!=1.0.2,>=0.25.3->pandas-profiling) (2020.1)\n",
      "Requirement already satisfied: numba>=0.38.1 in c:\\users\\sk074909\\anaconda3\\envs\\rython\\lib\\site-packages (from phik>=0.9.10->pandas-profiling) (0.49.1)\n",
      "Requirement already satisfied: MarkupSafe>=0.23 in c:\\users\\sk074909\\anaconda3\\envs\\rython\\lib\\site-packages (from jinja2>=2.11.1->pandas-profiling) (1.1.1)\n",
      "Requirement already satisfied: traitlets>=4.3.1 in c:\\users\\sk074909\\anaconda3\\envs\\rython\\lib\\site-packages (from ipywidgets>=7.5.1->pandas-profiling) (4.3.3)\n",
      "Requirement already satisfied: ipykernel>=4.5.1 in c:\\users\\sk074909\\anaconda3\\envs\\rython\\lib\\site-packages (from ipywidgets>=7.5.1->pandas-profiling) (5.1.4)\n",
      "Requirement already satisfied: widgetsnbextension~=3.5.0 in c:\\users\\sk074909\\anaconda3\\envs\\rython\\lib\\site-packages (from ipywidgets>=7.5.1->pandas-profiling) (3.5.1)\n",
      "Requirement already satisfied: nbformat>=4.2.0 in c:\\users\\sk074909\\anaconda3\\envs\\rython\\lib\\site-packages (from ipywidgets>=7.5.1->pandas-profiling) (5.0.6)\n",
      "Requirement already satisfied: ipython>=4.0.0; python_version >= \"3.3\" in c:\\users\\sk074909\\anaconda3\\envs\\rython\\lib\\site-packages (from ipywidgets>=7.5.1->pandas-profiling) (7.13.0)\n",
      "Requirement already satisfied: chardet<4,>=3.0.2 in c:\\users\\sk074909\\anaconda3\\envs\\rython\\lib\\site-packages (from requests>=2.23.0->pandas-profiling) (3.0.4)\n",
      "Requirement already satisfied: certifi>=2017.4.17 in c:\\users\\sk074909\\anaconda3\\envs\\rython\\lib\\site-packages (from requests>=2.23.0->pandas-profiling) (2020.4.5.1)\n",
      "Requirement already satisfied: idna<3,>=2.5 in c:\\users\\sk074909\\anaconda3\\envs\\rython\\lib\\site-packages (from requests>=2.23.0->pandas-profiling) (2.9)\n",
      "Requirement already satisfied: urllib3!=1.25.0,!=1.25.1,<1.26,>=1.21.1 in c:\\users\\sk074909\\appdata\\roaming\\python\\python37\\site-packages (from requests>=2.23.0->pandas-profiling) (1.24.3)\n",
      "Requirement already satisfied: kiwisolver>=1.0.1 in c:\\users\\sk074909\\anaconda3\\envs\\rython\\lib\\site-packages (from matplotlib>=3.2.0->pandas-profiling) (1.2.0)\n",
      "Requirement already satisfied: pyparsing!=2.0.4,!=2.1.2,!=2.1.6,>=2.0.1 in c:\\users\\sk074909\\appdata\\roaming\\python\\python37\\site-packages (from matplotlib>=3.2.0->pandas-profiling) (2.4.0)\n",
      "Requirement already satisfied: cycler>=0.10 in c:\\users\\sk074909\\anaconda3\\envs\\rython\\lib\\site-packages (from matplotlib>=3.2.0->pandas-profiling) (0.10.0)\n",
      "Requirement already satisfied: pyyaml in c:\\users\\sk074909\\anaconda3\\envs\\rython\\lib\\site-packages (from confuse>=1.0.0->pandas-profiling) (5.3.1)\n",
      "Requirement already satisfied: seaborn in c:\\users\\sk074909\\anaconda3\\envs\\rython\\lib\\site-packages (from missingno>=0.4.2->pandas-profiling) (0.10.1)\n",
      "Requirement already satisfied: decorator>=4.3.0 in c:\\users\\sk074909\\anaconda3\\envs\\rython\\lib\\site-packages (from networkx>=2.4->visions[type_image_path]==0.4.4->pandas-profiling) (4.4.2)\n",
      "Requirement already satisfied: six in c:\\users\\sk074909\\appdata\\roaming\\python\\python37\\site-packages (from imagehash; extra == \"type_image_path\"->visions[type_image_path]==0.4.4->pandas-profiling) (1.14.0)\n",
      "Requirement already satisfied: PyWavelets in c:\\users\\sk074909\\anaconda3\\envs\\rython\\lib\\site-packages (from imagehash; extra == \"type_image_path\"->visions[type_image_path]==0.4.4->pandas-profiling) (1.1.1)\n",
      "Requirement already satisfied: setuptools in c:\\users\\sk074909\\appdata\\roaming\\python\\python37\\site-packages (from numba>=0.38.1->phik>=0.9.10->pandas-profiling) (45.2.0)\n",
      "Requirement already satisfied: llvmlite<=0.33.0.dev0,>=0.31.0.dev0 in c:\\users\\sk074909\\anaconda3\\envs\\rython\\lib\\site-packages (from numba>=0.38.1->phik>=0.9.10->pandas-profiling) (0.32.1)\n",
      "Requirement already satisfied: ipython-genutils in c:\\users\\sk074909\\anaconda3\\envs\\rython\\lib\\site-packages (from traitlets>=4.3.1->ipywidgets>=7.5.1->pandas-profiling) (0.2.0)\n",
      "Requirement already satisfied: jupyter-client in c:\\users\\sk074909\\anaconda3\\envs\\rython\\lib\\site-packages (from ipykernel>=4.5.1->ipywidgets>=7.5.1->pandas-profiling) (6.1.3)\n",
      "Requirement already satisfied: tornado>=4.2 in c:\\users\\sk074909\\anaconda3\\envs\\rython\\lib\\site-packages (from ipykernel>=4.5.1->ipywidgets>=7.5.1->pandas-profiling) (6.0.4)\n",
      "Requirement already satisfied: notebook>=4.4.1 in c:\\users\\sk074909\\anaconda3\\envs\\rython\\lib\\site-packages (from widgetsnbextension~=3.5.0->ipywidgets>=7.5.1->pandas-profiling) (6.0.3)\n",
      "Requirement already satisfied: jupyter-core in c:\\users\\sk074909\\anaconda3\\envs\\rython\\lib\\site-packages (from nbformat>=4.2.0->ipywidgets>=7.5.1->pandas-profiling) (4.6.3)\n",
      "Requirement already satisfied: jsonschema!=2.5.0,>=2.4 in c:\\users\\sk074909\\appdata\\roaming\\python\\python37\\site-packages (from nbformat>=4.2.0->ipywidgets>=7.5.1->pandas-profiling) (3.0.2)\n",
      "Requirement already satisfied: prompt-toolkit!=3.0.0,!=3.0.1,<3.1.0,>=2.0.0 in c:\\users\\sk074909\\anaconda3\\envs\\rython\\lib\\site-packages (from ipython>=4.0.0; python_version >= \"3.3\"->ipywidgets>=7.5.1->pandas-profiling) (3.0.4)\n",
      "Requirement already satisfied: pickleshare in c:\\users\\sk074909\\anaconda3\\envs\\rython\\lib\\site-packages (from ipython>=4.0.0; python_version >= \"3.3\"->ipywidgets>=7.5.1->pandas-profiling) (0.7.5)\n",
      "Requirement already satisfied: colorama; sys_platform == \"win32\" in c:\\users\\sk074909\\appdata\\roaming\\python\\python37\\site-packages (from ipython>=4.0.0; python_version >= \"3.3\"->ipywidgets>=7.5.1->pandas-profiling) (0.3.9)\n",
      "Requirement already satisfied: backcall in c:\\users\\sk074909\\anaconda3\\envs\\rython\\lib\\site-packages (from ipython>=4.0.0; python_version >= \"3.3\"->ipywidgets>=7.5.1->pandas-profiling) (0.1.0)\n",
      "Requirement already satisfied: jedi>=0.10 in c:\\users\\sk074909\\anaconda3\\envs\\rython\\lib\\site-packages (from ipython>=4.0.0; python_version >= \"3.3\"->ipywidgets>=7.5.1->pandas-profiling) (0.17.0)\n",
      "Requirement already satisfied: pygments in c:\\users\\sk074909\\anaconda3\\envs\\rython\\lib\\site-packages (from ipython>=4.0.0; python_version >= \"3.3\"->ipywidgets>=7.5.1->pandas-profiling) (2.6.1)\n",
      "Requirement already satisfied: pyzmq>=13 in c:\\users\\sk074909\\anaconda3\\envs\\rython\\lib\\site-packages (from jupyter-client->ipykernel>=4.5.1->ipywidgets>=7.5.1->pandas-profiling) (18.1.1)\n",
      "Requirement already satisfied: Send2Trash in c:\\users\\sk074909\\anaconda3\\envs\\rython\\lib\\site-packages (from notebook>=4.4.1->widgetsnbextension~=3.5.0->ipywidgets>=7.5.1->pandas-profiling) (1.5.0)\n",
      "Requirement already satisfied: nbconvert in c:\\users\\sk074909\\anaconda3\\envs\\rython\\lib\\site-packages (from notebook>=4.4.1->widgetsnbextension~=3.5.0->ipywidgets>=7.5.1->pandas-profiling) (5.6.1)\n",
      "Requirement already satisfied: prometheus-client in c:\\users\\sk074909\\anaconda3\\envs\\rython\\lib\\site-packages (from notebook>=4.4.1->widgetsnbextension~=3.5.0->ipywidgets>=7.5.1->pandas-profiling) (0.7.1)\n",
      "Requirement already satisfied: terminado>=0.8.1 in c:\\users\\sk074909\\anaconda3\\envs\\rython\\lib\\site-packages (from notebook>=4.4.1->widgetsnbextension~=3.5.0->ipywidgets>=7.5.1->pandas-profiling) (0.8.3)\n",
      "Requirement already satisfied: pywin32>=1.0; sys_platform == \"win32\" in c:\\users\\sk074909\\anaconda3\\envs\\rython\\lib\\site-packages (from jupyter-core->nbformat>=4.2.0->ipywidgets>=7.5.1->pandas-profiling) (227)\n",
      "Requirement already satisfied: pyrsistent>=0.14.0 in c:\\users\\sk074909\\anaconda3\\envs\\rython\\lib\\site-packages (from jsonschema!=2.5.0,>=2.4->nbformat>=4.2.0->ipywidgets>=7.5.1->pandas-profiling) (0.16.0)\n",
      "Requirement already satisfied: wcwidth in c:\\users\\sk074909\\anaconda3\\envs\\rython\\lib\\site-packages (from prompt-toolkit!=3.0.0,!=3.0.1,<3.1.0,>=2.0.0->ipython>=4.0.0; python_version >= \"3.3\"->ipywidgets>=7.5.1->pandas-profiling) (0.1.9)\n",
      "Requirement already satisfied: parso>=0.7.0 in c:\\users\\sk074909\\anaconda3\\envs\\rython\\lib\\site-packages (from jedi>=0.10->ipython>=4.0.0; python_version >= \"3.3\"->ipywidgets>=7.5.1->pandas-profiling) (0.7.0)\n",
      "Requirement already satisfied: testpath in c:\\users\\sk074909\\anaconda3\\envs\\rython\\lib\\site-packages (from nbconvert->notebook>=4.4.1->widgetsnbextension~=3.5.0->ipywidgets>=7.5.1->pandas-profiling) (0.4.4)\n",
      "Requirement already satisfied: mistune<2,>=0.8.1 in c:\\users\\sk074909\\anaconda3\\envs\\rython\\lib\\site-packages (from nbconvert->notebook>=4.4.1->widgetsnbextension~=3.5.0->ipywidgets>=7.5.1->pandas-profiling) (0.8.4)\n",
      "Requirement already satisfied: bleach in c:\\users\\sk074909\\anaconda3\\envs\\rython\\lib\\site-packages (from nbconvert->notebook>=4.4.1->widgetsnbextension~=3.5.0->ipywidgets>=7.5.1->pandas-profiling) (3.1.4)\n",
      "Requirement already satisfied: defusedxml in c:\\users\\sk074909\\anaconda3\\envs\\rython\\lib\\site-packages (from nbconvert->notebook>=4.4.1->widgetsnbextension~=3.5.0->ipywidgets>=7.5.1->pandas-profiling) (0.6.0)\n",
      "Requirement already satisfied: entrypoints>=0.2.2 in c:\\users\\sk074909\\anaconda3\\envs\\rython\\lib\\site-packages (from nbconvert->notebook>=4.4.1->widgetsnbextension~=3.5.0->ipywidgets>=7.5.1->pandas-profiling) (0.3)\n",
      "Requirement already satisfied: pandocfilters>=1.4.1 in c:\\users\\sk074909\\anaconda3\\envs\\rython\\lib\\site-packages (from nbconvert->notebook>=4.4.1->widgetsnbextension~=3.5.0->ipywidgets>=7.5.1->pandas-profiling) (1.4.2)\n",
      "Requirement already satisfied: webencodings in c:\\users\\sk074909\\anaconda3\\envs\\rython\\lib\\site-packages (from bleach->nbconvert->notebook>=4.4.1->widgetsnbextension~=3.5.0->ipywidgets>=7.5.1->pandas-profiling) (0.5.1)\n",
      "Note: you may need to restart the kernel to use updated packages.\n"
     ]
    }
   ],
   "source": [
    "pip install pandas-profiling"
   ]
  },
  {
   "cell_type": "code",
   "execution_count": 5,
   "metadata": {},
   "outputs": [
    {
     "data": {
      "application/vnd.jupyter.widget-view+json": {
       "model_id": "0f65a65a204a46d7bd520d5dc0a04978",
       "version_major": 2,
       "version_minor": 0
      },
      "text/plain": [
       "HBox(children=(FloatProgress(value=0.0, description='Summarize dataset', max=27.0, style=ProgressStyle(descrip…"
      ]
     },
     "metadata": {},
     "output_type": "display_data"
    },
    {
     "name": "stdout",
     "output_type": "stream",
     "text": [
      "\n"
     ]
    },
    {
     "data": {
      "application/vnd.jupyter.widget-view+json": {
       "model_id": "c08bd38cc6ae4ddaa10c1bad6a4715b4",
       "version_major": 2,
       "version_minor": 0
      },
      "text/plain": [
       "HBox(children=(FloatProgress(value=0.0, description='Generate report structure', max=1.0, style=ProgressStyle(…"
      ]
     },
     "metadata": {},
     "output_type": "display_data"
    },
    {
     "name": "stdout",
     "output_type": "stream",
     "text": [
      "\n"
     ]
    },
    {
     "data": {
      "application/vnd.jupyter.widget-view+json": {
       "model_id": "f2d1d2d092da4f6dbc7689c46c36f196",
       "version_major": 2,
       "version_minor": 0
      },
      "text/plain": [
       "HBox(children=(FloatProgress(value=0.0, description='Render HTML', max=1.0, style=ProgressStyle(description_wi…"
      ]
     },
     "metadata": {},
     "output_type": "display_data"
    },
    {
     "name": "stdout",
     "output_type": "stream",
     "text": [
      "\n"
     ]
    },
    {
     "data": {
      "application/vnd.jupyter.widget-view+json": {
       "model_id": "73b8a95659004a9c81563709b2015f3e",
       "version_major": 2,
       "version_minor": 0
      },
      "text/plain": [
       "HBox(children=(FloatProgress(value=0.0, description='Export report to file', max=1.0, style=ProgressStyle(desc…"
      ]
     },
     "metadata": {},
     "output_type": "display_data"
    },
    {
     "name": "stdout",
     "output_type": "stream",
     "text": [
      "\n"
     ]
    }
   ],
   "source": [
    "from pandas_profiling import ProfileReport\n",
    "prof = ProfileReport(df)\n",
    "prof.to_file(output_file='output.html')"
   ]
  },
  {
   "cell_type": "code",
   "execution_count": 65,
   "metadata": {},
   "outputs": [
    {
     "data": {
      "application/vnd.jupyter.widget-view+json": {
       "model_id": "",
       "version_major": 2,
       "version_minor": 0
      },
      "text/plain": [
       "HBox(children=(FloatProgress(value=0.0, description='Render widgets', max=1.0, style=ProgressStyle(description…"
      ]
     },
     "metadata": {},
     "output_type": "display_data"
    },
    {
     "data": {
      "application/vnd.jupyter.widget-view+json": {
       "model_id": "a2fd0d3605b0486d9f11e4553c4a6b77",
       "version_major": 2,
       "version_minor": 0
      },
      "text/plain": [
       "VBox(children=(Tab(children=(Tab(children=(GridBox(children=(VBox(children=(GridspecLayout(children=(HTML(valu…"
      ]
     },
     "metadata": {},
     "output_type": "display_data"
    }
   ],
   "source": [
    "prof.to_widgets()"
   ]
  },
  {
   "cell_type": "markdown",
   "metadata": {},
   "source": [
    "# Pre-processing Checking and Removing the Null and NaN values"
   ]
  },
  {
   "cell_type": "code",
   "execution_count": 6,
   "metadata": {},
   "outputs": [
    {
     "data": {
      "text/plain": [
       "country                   0\n",
       "year                      0\n",
       "uniqueid                  0\n",
       "bank_account              0\n",
       "location_type             0\n",
       "cellphone_access          0\n",
       "household_size            0\n",
       "age_of_respondent         0\n",
       "gender_of_respondent      0\n",
       "relationship_with_head    0\n",
       "marital_status            0\n",
       "education_level           0\n",
       "job_type                  0\n",
       "dtype: int64"
      ]
     },
     "execution_count": 6,
     "metadata": {},
     "output_type": "execute_result"
    }
   ],
   "source": [
    "df.isnull().sum()"
   ]
  },
  {
   "cell_type": "code",
   "execution_count": 7,
   "metadata": {},
   "outputs": [],
   "source": [
    "df=df.dropna(axis=0)"
   ]
  },
  {
   "cell_type": "markdown",
   "metadata": {},
   "source": [
    "# Pre-Processing Label Encoding"
   ]
  },
  {
   "cell_type": "code",
   "execution_count": 8,
   "metadata": {},
   "outputs": [
    {
     "data": {
      "text/plain": [
       "array(['Tanzania', 'Rwanda', 'Uganda', 'Kenya'], dtype=object)"
      ]
     },
     "execution_count": 8,
     "metadata": {},
     "output_type": "execute_result"
    }
   ],
   "source": [
    "df['country'].unique()"
   ]
  },
  {
   "cell_type": "code",
   "execution_count": 9,
   "metadata": {},
   "outputs": [
    {
     "data": {
      "text/plain": [
       "array([2017, 2016, 2018], dtype=int64)"
      ]
     },
     "execution_count": 9,
     "metadata": {},
     "output_type": "execute_result"
    }
   ],
   "source": [
    "df['year'].unique()"
   ]
  },
  {
   "cell_type": "code",
   "execution_count": 10,
   "metadata": {},
   "outputs": [
    {
     "data": {
      "text/plain": [
       "array(['No', 'Yes'], dtype=object)"
      ]
     },
     "execution_count": 10,
     "metadata": {},
     "output_type": "execute_result"
    }
   ],
   "source": [
    "df['bank_account'].unique()"
   ]
  },
  {
   "cell_type": "code",
   "execution_count": 11,
   "metadata": {},
   "outputs": [
    {
     "data": {
      "text/plain": [
       "array(['Rural', 'Urban'], dtype=object)"
      ]
     },
     "execution_count": 11,
     "metadata": {},
     "output_type": "execute_result"
    }
   ],
   "source": [
    "df['location_type'].unique()"
   ]
  },
  {
   "cell_type": "code",
   "execution_count": 12,
   "metadata": {},
   "outputs": [
    {
     "data": {
      "text/plain": [
       "array(['No', 'Yes'], dtype=object)"
      ]
     },
     "execution_count": 12,
     "metadata": {},
     "output_type": "execute_result"
    }
   ],
   "source": [
    "df['cellphone_access'].unique()"
   ]
  },
  {
   "cell_type": "code",
   "execution_count": 13,
   "metadata": {},
   "outputs": [
    {
     "data": {
      "text/plain": [
       "array([ 2,  4,  1,  5,  9,  6,  3,  8, 11, 10,  7, 12, 15, 14, 13, 16, 20,\n",
       "       18, 21], dtype=int64)"
      ]
     },
     "execution_count": 13,
     "metadata": {},
     "output_type": "execute_result"
    }
   ],
   "source": [
    "df['household_size'].unique()"
   ]
  },
  {
   "cell_type": "code",
   "execution_count": 14,
   "metadata": {},
   "outputs": [
    {
     "data": {
      "text/plain": [
       "array([ 18,  22,  31,  56,  36,  23,  39,  37,  52,  65,  40,  30,  44,\n",
       "        24,  29,  86,  42,  32,  75,  28,  35,  27,  59,  25,  85,  26,\n",
       "        64,  16,  34,  20,  55,  38,  49,  19,  46,  67,  17,  66,  45,\n",
       "        50,  21,  79,  54,  91,  62,  81,  48,  41,  47,  68,  70,  33,\n",
       "        95,  58,  80,  43,  63,  60,  76,  82,  61,  53,  57,  69,  51,\n",
       "        72,  90,  71,  92,  96,  74,  84,  98,  78,  77,  73,  89,  83,\n",
       "        88,  94,  87,  93, 100,  99,  97], dtype=int64)"
      ]
     },
     "execution_count": 14,
     "metadata": {},
     "output_type": "execute_result"
    }
   ],
   "source": [
    "df['age_of_respondent'].unique()"
   ]
  },
  {
   "cell_type": "code",
   "execution_count": 15,
   "metadata": {},
   "outputs": [
    {
     "data": {
      "text/plain": [
       "array(['Female', 'Male'], dtype=object)"
      ]
     },
     "execution_count": 15,
     "metadata": {},
     "output_type": "execute_result"
    }
   ],
   "source": [
    "df['gender_of_respondent'].unique()"
   ]
  },
  {
   "cell_type": "code",
   "execution_count": 16,
   "metadata": {},
   "outputs": [
    {
     "data": {
      "text/plain": [
       "array(['Child', 'Spouse', 'Head of Household', 'Parent', 'Other relative',\n",
       "       'Other non-relatives'], dtype=object)"
      ]
     },
     "execution_count": 16,
     "metadata": {},
     "output_type": "execute_result"
    }
   ],
   "source": [
    "df['relationship_with_head'].unique()"
   ]
  },
  {
   "cell_type": "code",
   "execution_count": 17,
   "metadata": {},
   "outputs": [
    {
     "data": {
      "text/plain": [
       "array(['Divorced/Seperated', 'Single/Never Married',\n",
       "       'Married/Living together', 'Widowed', 'Dont know'], dtype=object)"
      ]
     },
     "execution_count": 17,
     "metadata": {},
     "output_type": "execute_result"
    }
   ],
   "source": [
    "df['marital_status'].unique()"
   ]
  },
  {
   "cell_type": "code",
   "execution_count": 18,
   "metadata": {},
   "outputs": [
    {
     "data": {
      "text/plain": [
       "array(['Tertiary education', 'Primary education', 'No formal education',\n",
       "       'Secondary education', 'Vocational/Specialised training',\n",
       "       'Other/Dont know/RTA'], dtype=object)"
      ]
     },
     "execution_count": 18,
     "metadata": {},
     "output_type": "execute_result"
    }
   ],
   "source": [
    "df['education_level'].unique()"
   ]
  },
  {
   "cell_type": "code",
   "execution_count": 19,
   "metadata": {},
   "outputs": [
    {
     "data": {
      "text/plain": [
       "array(['Remittance Dependent', 'Self employed', 'Farming and Fishing',\n",
       "       'Informally employed', 'Dont Know/Refuse to answer',\n",
       "       'Other Income', 'Government Dependent',\n",
       "       'Formally employed Private', 'No Income',\n",
       "       'Formally employed Government'], dtype=object)"
      ]
     },
     "execution_count": 19,
     "metadata": {},
     "output_type": "execute_result"
    }
   ],
   "source": [
    "df['job_type'].unique()"
   ]
  },
  {
   "cell_type": "code",
   "execution_count": 20,
   "metadata": {},
   "outputs": [],
   "source": [
    "from sklearn import preprocessing\n",
    "le = preprocessing.LabelEncoder()"
   ]
  },
  {
   "cell_type": "code",
   "execution_count": 21,
   "metadata": {},
   "outputs": [],
   "source": [
    "df['job_type']=le.fit_transform(df['job_type'])\n",
    "df['education_level']=le.fit_transform(df['education_level'])\n",
    "df['marital_status']=le.fit_transform(df['marital_status'])\n",
    "df['relationship_with_head']=le.fit_transform(df['relationship_with_head'])\n",
    "df['gender_of_respondent']=le.fit_transform(df['gender_of_respondent'])\n",
    "df['cellphone_access']=le.fit_transform(df['cellphone_access'])\n",
    "df['location_type']=le.fit_transform(df['location_type'])\n",
    "df['country']=le.fit_transform(df['country'])\n",
    "df['bank_account']=le.fit_transform(df['bank_account'])"
   ]
  },
  {
   "cell_type": "code",
   "execution_count": 22,
   "metadata": {},
   "outputs": [],
   "source": [
    "df['year']=le.fit_transform(df['year'])"
   ]
  },
  {
   "cell_type": "markdown",
   "metadata": {},
   "source": [
    "# Finding the Correlation"
   ]
  },
  {
   "cell_type": "code",
   "execution_count": 23,
   "metadata": {
    "scrolled": true
   },
   "outputs": [
    {
     "data": {
      "text/html": [
       "<div>\n",
       "<style scoped>\n",
       "    .dataframe tbody tr th:only-of-type {\n",
       "        vertical-align: middle;\n",
       "    }\n",
       "\n",
       "    .dataframe tbody tr th {\n",
       "        vertical-align: top;\n",
       "    }\n",
       "\n",
       "    .dataframe thead th {\n",
       "        text-align: right;\n",
       "    }\n",
       "</style>\n",
       "<table border=\"1\" class=\"dataframe\">\n",
       "  <thead>\n",
       "    <tr style=\"text-align: right;\">\n",
       "      <th></th>\n",
       "      <th>country</th>\n",
       "      <th>year</th>\n",
       "      <th>bank_account</th>\n",
       "      <th>location_type</th>\n",
       "      <th>cellphone_access</th>\n",
       "      <th>household_size</th>\n",
       "      <th>age_of_respondent</th>\n",
       "      <th>gender_of_respondent</th>\n",
       "      <th>relationship_with_head</th>\n",
       "      <th>marital_status</th>\n",
       "      <th>education_level</th>\n",
       "      <th>job_type</th>\n",
       "    </tr>\n",
       "  </thead>\n",
       "  <tbody>\n",
       "    <tr>\n",
       "      <th>country</th>\n",
       "      <td>1.000000</td>\n",
       "      <td>-0.096757</td>\n",
       "      <td>-0.161547</td>\n",
       "      <td>0.153177</td>\n",
       "      <td>-0.149371</td>\n",
       "      <td>-0.123184</td>\n",
       "      <td>-0.057192</td>\n",
       "      <td>-0.021864</td>\n",
       "      <td>0.126557</td>\n",
       "      <td>0.009664</td>\n",
       "      <td>-0.051220</td>\n",
       "      <td>0.377612</td>\n",
       "    </tr>\n",
       "    <tr>\n",
       "      <th>year</th>\n",
       "      <td>-0.096757</td>\n",
       "      <td>1.000000</td>\n",
       "      <td>0.109098</td>\n",
       "      <td>0.216528</td>\n",
       "      <td>-0.064812</td>\n",
       "      <td>-0.054504</td>\n",
       "      <td>-0.023677</td>\n",
       "      <td>0.000144</td>\n",
       "      <td>0.002233</td>\n",
       "      <td>-0.023422</td>\n",
       "      <td>0.171362</td>\n",
       "      <td>0.268455</td>\n",
       "    </tr>\n",
       "    <tr>\n",
       "      <th>bank_account</th>\n",
       "      <td>-0.161547</td>\n",
       "      <td>0.109098</td>\n",
       "      <td>1.000000</td>\n",
       "      <td>0.085742</td>\n",
       "      <td>0.211920</td>\n",
       "      <td>-0.028647</td>\n",
       "      <td>0.021330</td>\n",
       "      <td>0.115665</td>\n",
       "      <td>-0.071117</td>\n",
       "      <td>-0.039687</td>\n",
       "      <td>0.325631</td>\n",
       "      <td>-0.065751</td>\n",
       "    </tr>\n",
       "    <tr>\n",
       "      <th>location_type</th>\n",
       "      <td>0.153177</td>\n",
       "      <td>0.216528</td>\n",
       "      <td>0.085742</td>\n",
       "      <td>1.000000</td>\n",
       "      <td>-0.082532</td>\n",
       "      <td>-0.255996</td>\n",
       "      <td>-0.044905</td>\n",
       "      <td>0.015781</td>\n",
       "      <td>0.010977</td>\n",
       "      <td>0.082124</td>\n",
       "      <td>0.120687</td>\n",
       "      <td>0.368555</td>\n",
       "    </tr>\n",
       "    <tr>\n",
       "      <th>cellphone_access</th>\n",
       "      <td>-0.149371</td>\n",
       "      <td>-0.064812</td>\n",
       "      <td>0.211920</td>\n",
       "      <td>-0.082532</td>\n",
       "      <td>1.000000</td>\n",
       "      <td>0.088005</td>\n",
       "      <td>-0.103968</td>\n",
       "      <td>0.105131</td>\n",
       "      <td>-0.054054</td>\n",
       "      <td>-0.094580</td>\n",
       "      <td>0.254553</td>\n",
       "      <td>-0.145935</td>\n",
       "    </tr>\n",
       "    <tr>\n",
       "      <th>household_size</th>\n",
       "      <td>-0.123184</td>\n",
       "      <td>-0.054504</td>\n",
       "      <td>-0.028647</td>\n",
       "      <td>-0.255996</td>\n",
       "      <td>0.088005</td>\n",
       "      <td>1.000000</td>\n",
       "      <td>-0.131367</td>\n",
       "      <td>0.015314</td>\n",
       "      <td>0.108107</td>\n",
       "      <td>-0.127539</td>\n",
       "      <td>-0.003222</td>\n",
       "      <td>-0.160117</td>\n",
       "    </tr>\n",
       "    <tr>\n",
       "      <th>age_of_respondent</th>\n",
       "      <td>-0.057192</td>\n",
       "      <td>-0.023677</td>\n",
       "      <td>0.021330</td>\n",
       "      <td>-0.044905</td>\n",
       "      <td>-0.103968</td>\n",
       "      <td>-0.131367</td>\n",
       "      <td>1.000000</td>\n",
       "      <td>0.011205</td>\n",
       "      <td>-0.151790</td>\n",
       "      <td>0.225616</td>\n",
       "      <td>-0.351885</td>\n",
       "      <td>-0.099099</td>\n",
       "    </tr>\n",
       "    <tr>\n",
       "      <th>gender_of_respondent</th>\n",
       "      <td>-0.021864</td>\n",
       "      <td>0.000144</td>\n",
       "      <td>0.115665</td>\n",
       "      <td>0.015781</td>\n",
       "      <td>0.105131</td>\n",
       "      <td>0.015314</td>\n",
       "      <td>0.011205</td>\n",
       "      <td>1.000000</td>\n",
       "      <td>-0.471259</td>\n",
       "      <td>-0.103445</td>\n",
       "      <td>0.122305</td>\n",
       "      <td>-0.030958</td>\n",
       "    </tr>\n",
       "    <tr>\n",
       "      <th>relationship_with_head</th>\n",
       "      <td>0.126557</td>\n",
       "      <td>0.002233</td>\n",
       "      <td>-0.071117</td>\n",
       "      <td>0.010977</td>\n",
       "      <td>-0.054054</td>\n",
       "      <td>0.108107</td>\n",
       "      <td>-0.151790</td>\n",
       "      <td>-0.471259</td>\n",
       "      <td>1.000000</td>\n",
       "      <td>-0.146051</td>\n",
       "      <td>-0.021011</td>\n",
       "      <td>0.041135</td>\n",
       "    </tr>\n",
       "    <tr>\n",
       "      <th>marital_status</th>\n",
       "      <td>0.009664</td>\n",
       "      <td>-0.023422</td>\n",
       "      <td>-0.039687</td>\n",
       "      <td>0.082124</td>\n",
       "      <td>-0.094580</td>\n",
       "      <td>-0.127539</td>\n",
       "      <td>0.225616</td>\n",
       "      <td>-0.103445</td>\n",
       "      <td>-0.146051</td>\n",
       "      <td>1.000000</td>\n",
       "      <td>-0.125030</td>\n",
       "      <td>0.060898</td>\n",
       "    </tr>\n",
       "    <tr>\n",
       "      <th>education_level</th>\n",
       "      <td>-0.051220</td>\n",
       "      <td>0.171362</td>\n",
       "      <td>0.325631</td>\n",
       "      <td>0.120687</td>\n",
       "      <td>0.254553</td>\n",
       "      <td>-0.003222</td>\n",
       "      <td>-0.351885</td>\n",
       "      <td>0.122305</td>\n",
       "      <td>-0.021011</td>\n",
       "      <td>-0.125030</td>\n",
       "      <td>1.000000</td>\n",
       "      <td>0.038037</td>\n",
       "    </tr>\n",
       "    <tr>\n",
       "      <th>job_type</th>\n",
       "      <td>0.377612</td>\n",
       "      <td>0.268455</td>\n",
       "      <td>-0.065751</td>\n",
       "      <td>0.368555</td>\n",
       "      <td>-0.145935</td>\n",
       "      <td>-0.160117</td>\n",
       "      <td>-0.099099</td>\n",
       "      <td>-0.030958</td>\n",
       "      <td>0.041135</td>\n",
       "      <td>0.060898</td>\n",
       "      <td>0.038037</td>\n",
       "      <td>1.000000</td>\n",
       "    </tr>\n",
       "  </tbody>\n",
       "</table>\n",
       "</div>"
      ],
      "text/plain": [
       "                         country      year  bank_account  location_type  \\\n",
       "country                 1.000000 -0.096757     -0.161547       0.153177   \n",
       "year                   -0.096757  1.000000      0.109098       0.216528   \n",
       "bank_account           -0.161547  0.109098      1.000000       0.085742   \n",
       "location_type           0.153177  0.216528      0.085742       1.000000   \n",
       "cellphone_access       -0.149371 -0.064812      0.211920      -0.082532   \n",
       "household_size         -0.123184 -0.054504     -0.028647      -0.255996   \n",
       "age_of_respondent      -0.057192 -0.023677      0.021330      -0.044905   \n",
       "gender_of_respondent   -0.021864  0.000144      0.115665       0.015781   \n",
       "relationship_with_head  0.126557  0.002233     -0.071117       0.010977   \n",
       "marital_status          0.009664 -0.023422     -0.039687       0.082124   \n",
       "education_level        -0.051220  0.171362      0.325631       0.120687   \n",
       "job_type                0.377612  0.268455     -0.065751       0.368555   \n",
       "\n",
       "                        cellphone_access  household_size  age_of_respondent  \\\n",
       "country                        -0.149371       -0.123184          -0.057192   \n",
       "year                           -0.064812       -0.054504          -0.023677   \n",
       "bank_account                    0.211920       -0.028647           0.021330   \n",
       "location_type                  -0.082532       -0.255996          -0.044905   \n",
       "cellphone_access                1.000000        0.088005          -0.103968   \n",
       "household_size                  0.088005        1.000000          -0.131367   \n",
       "age_of_respondent              -0.103968       -0.131367           1.000000   \n",
       "gender_of_respondent            0.105131        0.015314           0.011205   \n",
       "relationship_with_head         -0.054054        0.108107          -0.151790   \n",
       "marital_status                 -0.094580       -0.127539           0.225616   \n",
       "education_level                 0.254553       -0.003222          -0.351885   \n",
       "job_type                       -0.145935       -0.160117          -0.099099   \n",
       "\n",
       "                        gender_of_respondent  relationship_with_head  \\\n",
       "country                            -0.021864                0.126557   \n",
       "year                                0.000144                0.002233   \n",
       "bank_account                        0.115665               -0.071117   \n",
       "location_type                       0.015781                0.010977   \n",
       "cellphone_access                    0.105131               -0.054054   \n",
       "household_size                      0.015314                0.108107   \n",
       "age_of_respondent                   0.011205               -0.151790   \n",
       "gender_of_respondent                1.000000               -0.471259   \n",
       "relationship_with_head             -0.471259                1.000000   \n",
       "marital_status                     -0.103445               -0.146051   \n",
       "education_level                     0.122305               -0.021011   \n",
       "job_type                           -0.030958                0.041135   \n",
       "\n",
       "                        marital_status  education_level  job_type  \n",
       "country                       0.009664        -0.051220  0.377612  \n",
       "year                         -0.023422         0.171362  0.268455  \n",
       "bank_account                 -0.039687         0.325631 -0.065751  \n",
       "location_type                 0.082124         0.120687  0.368555  \n",
       "cellphone_access             -0.094580         0.254553 -0.145935  \n",
       "household_size               -0.127539        -0.003222 -0.160117  \n",
       "age_of_respondent             0.225616        -0.351885 -0.099099  \n",
       "gender_of_respondent         -0.103445         0.122305 -0.030958  \n",
       "relationship_with_head       -0.146051        -0.021011  0.041135  \n",
       "marital_status                1.000000        -0.125030  0.060898  \n",
       "education_level              -0.125030         1.000000  0.038037  \n",
       "job_type                      0.060898         0.038037  1.000000  "
      ]
     },
     "execution_count": 23,
     "metadata": {},
     "output_type": "execute_result"
    }
   ],
   "source": [
    "df.corr()"
   ]
  },
  {
   "cell_type": "markdown",
   "metadata": {},
   "source": [
    "# Checking for Outliers"
   ]
  },
  {
   "cell_type": "code",
   "execution_count": 24,
   "metadata": {},
   "outputs": [
    {
     "data": {
      "text/plain": [
       "<matplotlib.axes._subplots.AxesSubplot at 0x2a596656278>"
      ]
     },
     "execution_count": 24,
     "metadata": {},
     "output_type": "execute_result"
    },
    {
     "data": {
      "image/png": "[encoded data removed]",
      "text/plain": [
       "<Figure size 576x396 with 1 Axes>"
      ]
     },
     "metadata": {},
     "output_type": "display_data"
    }
   ],
   "source": [
    "import seaborn as sns\n",
    "sns.boxplot(x=df['age_of_respondent'])"
   ]
  },
  {
   "cell_type": "code",
   "execution_count": 25,
   "metadata": {},
   "outputs": [
    {
     "data": {
      "text/html": [
       "<div>\n",
       "<style scoped>\n",
       "    .dataframe tbody tr th:only-of-type {\n",
       "        vertical-align: middle;\n",
       "    }\n",
       "\n",
       "    .dataframe tbody tr th {\n",
       "        vertical-align: top;\n",
       "    }\n",
       "\n",
       "    .dataframe thead th {\n",
       "        text-align: right;\n",
       "    }\n",
       "</style>\n",
       "<table border=\"1\" class=\"dataframe\">\n",
       "  <thead>\n",
       "    <tr style=\"text-align: right;\">\n",
       "      <th></th>\n",
       "      <th>country</th>\n",
       "      <th>year</th>\n",
       "      <th>uniqueid</th>\n",
       "      <th>bank_account</th>\n",
       "      <th>location_type</th>\n",
       "      <th>cellphone_access</th>\n",
       "      <th>household_size</th>\n",
       "      <th>age_of_respondent</th>\n",
       "      <th>gender_of_respondent</th>\n",
       "      <th>relationship_with_head</th>\n",
       "      <th>marital_status</th>\n",
       "      <th>education_level</th>\n",
       "      <th>job_type</th>\n",
       "    </tr>\n",
       "  </thead>\n",
       "  <tbody>\n",
       "    <tr>\n",
       "      <th>18</th>\n",
       "      <td>2</td>\n",
       "      <td>1</td>\n",
       "      <td>uniqueid_4105</td>\n",
       "      <td>1</td>\n",
       "      <td>0</td>\n",
       "      <td>1</td>\n",
       "      <td>2</td>\n",
       "      <td>86</td>\n",
       "      <td>1</td>\n",
       "      <td>1</td>\n",
       "      <td>3</td>\n",
       "      <td>4</td>\n",
       "      <td>9</td>\n",
       "    </tr>\n",
       "    <tr>\n",
       "      <th>40</th>\n",
       "      <td>0</td>\n",
       "      <td>2</td>\n",
       "      <td>uniqueid_1252</td>\n",
       "      <td>1</td>\n",
       "      <td>0</td>\n",
       "      <td>1</td>\n",
       "      <td>4</td>\n",
       "      <td>85</td>\n",
       "      <td>1</td>\n",
       "      <td>1</td>\n",
       "      <td>4</td>\n",
       "      <td>0</td>\n",
       "      <td>4</td>\n",
       "    </tr>\n",
       "    <tr>\n",
       "      <th>115</th>\n",
       "      <td>2</td>\n",
       "      <td>1</td>\n",
       "      <td>uniqueid_4218</td>\n",
       "      <td>0</td>\n",
       "      <td>1</td>\n",
       "      <td>0</td>\n",
       "      <td>2</td>\n",
       "      <td>91</td>\n",
       "      <td>1</td>\n",
       "      <td>1</td>\n",
       "      <td>3</td>\n",
       "      <td>0</td>\n",
       "      <td>9</td>\n",
       "    </tr>\n",
       "    <tr>\n",
       "      <th>153</th>\n",
       "      <td>1</td>\n",
       "      <td>0</td>\n",
       "      <td>uniqueid_1921</td>\n",
       "      <td>0</td>\n",
       "      <td>0</td>\n",
       "      <td>0</td>\n",
       "      <td>3</td>\n",
       "      <td>95</td>\n",
       "      <td>0</td>\n",
       "      <td>1</td>\n",
       "      <td>4</td>\n",
       "      <td>0</td>\n",
       "      <td>5</td>\n",
       "    </tr>\n",
       "    <tr>\n",
       "      <th>242</th>\n",
       "      <td>0</td>\n",
       "      <td>2</td>\n",
       "      <td>uniqueid_2525</td>\n",
       "      <td>0</td>\n",
       "      <td>0</td>\n",
       "      <td>1</td>\n",
       "      <td>3</td>\n",
       "      <td>82</td>\n",
       "      <td>1</td>\n",
       "      <td>1</td>\n",
       "      <td>2</td>\n",
       "      <td>0</td>\n",
       "      <td>1</td>\n",
       "    </tr>\n",
       "    <tr>\n",
       "      <th>...</th>\n",
       "      <td>...</td>\n",
       "      <td>...</td>\n",
       "      <td>...</td>\n",
       "      <td>...</td>\n",
       "      <td>...</td>\n",
       "      <td>...</td>\n",
       "      <td>...</td>\n",
       "      <td>...</td>\n",
       "      <td>...</td>\n",
       "      <td>...</td>\n",
       "      <td>...</td>\n",
       "      <td>...</td>\n",
       "      <td>...</td>\n",
       "    </tr>\n",
       "    <tr>\n",
       "      <th>18567</th>\n",
       "      <td>2</td>\n",
       "      <td>1</td>\n",
       "      <td>uniqueid_2571</td>\n",
       "      <td>0</td>\n",
       "      <td>1</td>\n",
       "      <td>0</td>\n",
       "      <td>1</td>\n",
       "      <td>85</td>\n",
       "      <td>0</td>\n",
       "      <td>1</td>\n",
       "      <td>2</td>\n",
       "      <td>2</td>\n",
       "      <td>4</td>\n",
       "    </tr>\n",
       "    <tr>\n",
       "      <th>18668</th>\n",
       "      <td>2</td>\n",
       "      <td>1</td>\n",
       "      <td>uniqueid_4132</td>\n",
       "      <td>0</td>\n",
       "      <td>1</td>\n",
       "      <td>0</td>\n",
       "      <td>2</td>\n",
       "      <td>85</td>\n",
       "      <td>1</td>\n",
       "      <td>1</td>\n",
       "      <td>3</td>\n",
       "      <td>2</td>\n",
       "      <td>6</td>\n",
       "    </tr>\n",
       "    <tr>\n",
       "      <th>18728</th>\n",
       "      <td>0</td>\n",
       "      <td>2</td>\n",
       "      <td>uniqueid_5462</td>\n",
       "      <td>0</td>\n",
       "      <td>0</td>\n",
       "      <td>0</td>\n",
       "      <td>1</td>\n",
       "      <td>94</td>\n",
       "      <td>0</td>\n",
       "      <td>1</td>\n",
       "      <td>0</td>\n",
       "      <td>2</td>\n",
       "      <td>8</td>\n",
       "    </tr>\n",
       "    <tr>\n",
       "      <th>18770</th>\n",
       "      <td>2</td>\n",
       "      <td>1</td>\n",
       "      <td>uniqueid_5928</td>\n",
       "      <td>0</td>\n",
       "      <td>1</td>\n",
       "      <td>0</td>\n",
       "      <td>4</td>\n",
       "      <td>85</td>\n",
       "      <td>1</td>\n",
       "      <td>1</td>\n",
       "      <td>3</td>\n",
       "      <td>0</td>\n",
       "      <td>9</td>\n",
       "    </tr>\n",
       "    <tr>\n",
       "      <th>18803</th>\n",
       "      <td>1</td>\n",
       "      <td>0</td>\n",
       "      <td>uniqueid_6212</td>\n",
       "      <td>0</td>\n",
       "      <td>0</td>\n",
       "      <td>0</td>\n",
       "      <td>2</td>\n",
       "      <td>87</td>\n",
       "      <td>1</td>\n",
       "      <td>1</td>\n",
       "      <td>4</td>\n",
       "      <td>2</td>\n",
       "      <td>5</td>\n",
       "    </tr>\n",
       "  </tbody>\n",
       "</table>\n",
       "<p>260 rows × 13 columns</p>\n",
       "</div>"
      ],
      "text/plain": [
       "       country  year       uniqueid  bank_account  location_type  \\\n",
       "18           2     1  uniqueid_4105             1              0   \n",
       "40           0     2  uniqueid_1252             1              0   \n",
       "115          2     1  uniqueid_4218             0              1   \n",
       "153          1     0  uniqueid_1921             0              0   \n",
       "242          0     2  uniqueid_2525             0              0   \n",
       "...        ...   ...            ...           ...            ...   \n",
       "18567        2     1  uniqueid_2571             0              1   \n",
       "18668        2     1  uniqueid_4132             0              1   \n",
       "18728        0     2  uniqueid_5462             0              0   \n",
       "18770        2     1  uniqueid_5928             0              1   \n",
       "18803        1     0  uniqueid_6212             0              0   \n",
       "\n",
       "       cellphone_access  household_size  age_of_respondent  \\\n",
       "18                    1               2                 86   \n",
       "40                    1               4                 85   \n",
       "115                   0               2                 91   \n",
       "153                   0               3                 95   \n",
       "242                   1               3                 82   \n",
       "...                 ...             ...                ...   \n",
       "18567                 0               1                 85   \n",
       "18668                 0               2                 85   \n",
       "18728                 0               1                 94   \n",
       "18770                 0               4                 85   \n",
       "18803                 0               2                 87   \n",
       "\n",
       "       gender_of_respondent  relationship_with_head  marital_status  \\\n",
       "18                        1                       1               3   \n",
       "40                        1                       1               4   \n",
       "115                       1                       1               3   \n",
       "153                       0                       1               4   \n",
       "242                       1                       1               2   \n",
       "...                     ...                     ...             ...   \n",
       "18567                     0                       1               2   \n",
       "18668                     1                       1               3   \n",
       "18728                     0                       1               0   \n",
       "18770                     1                       1               3   \n",
       "18803                     1                       1               4   \n",
       "\n",
       "       education_level  job_type  \n",
       "18                   4         9  \n",
       "40                   0         4  \n",
       "115                  0         9  \n",
       "153                  0         5  \n",
       "242                  0         1  \n",
       "...                ...       ...  \n",
       "18567                2         4  \n",
       "18668                2         6  \n",
       "18728                2         8  \n",
       "18770                0         9  \n",
       "18803                2         5  \n",
       "\n",
       "[260 rows x 13 columns]"
      ]
     },
     "execution_count": 25,
     "metadata": {},
     "output_type": "execute_result"
    }
   ],
   "source": [
    "df[df['age_of_respondent']>=82]"
   ]
  },
  {
   "cell_type": "code",
   "execution_count": 26,
   "metadata": {},
   "outputs": [
    {
     "data": {
      "text/plain": [
       "<matplotlib.axes._subplots.AxesSubplot at 0x2a5967b7f60>"
      ]
     },
     "execution_count": 26,
     "metadata": {},
     "output_type": "execute_result"
    },
    {
     "data": {
      "image/png": "[encoded data removed]",
      "text/plain": [
       "<Figure size 576x396 with 1 Axes>"
      ]
     },
     "metadata": {},
     "output_type": "display_data"
    }
   ],
   "source": [
    "sns.boxplot(x=df['household_size'])"
   ]
  },
  {
   "cell_type": "markdown",
   "metadata": {},
   "source": [
    "# ANNOVA Test "
   ]
  },
  {
   "cell_type": "code",
   "execution_count": 27,
   "metadata": {},
   "outputs": [
    {
     "name": "stdout",
     "output_type": "stream",
     "text": [
      "Requirement already satisfied: statsmodels in c:\\users\\sk074909\\anaconda3\\envs\\rython\\lib\\site-packages (0.11.1)\n",
      "Requirement already satisfied: numpy>=1.14 in c:\\users\\sk074909\\appdata\\roaming\\python\\python37\\site-packages (from statsmodels) (1.18.1)\n",
      "Requirement already satisfied: pandas>=0.21 in c:\\users\\sk074909\\appdata\\roaming\\python\\python37\\site-packages (from statsmodels) (0.25.3)\n",
      "Requirement already satisfied: scipy>=1.0 in c:\\users\\sk074909\\anaconda3\\envs\\rython\\lib\\site-packages (from statsmodels) (1.4.1)\n",
      "Requirement already satisfied: patsy>=0.5 in c:\\users\\sk074909\\anaconda3\\envs\\rython\\lib\\site-packages (from statsmodels) (0.5.1)\n",
      "Requirement already satisfied: python-dateutil>=2.6.1 in c:\\users\\sk074909\\anaconda3\\envs\\rython\\lib\\site-packages (from pandas>=0.21->statsmodels) (2.8.1)\n",
      "Requirement already satisfied: pytz>=2017.2 in c:\\users\\sk074909\\anaconda3\\envs\\rython\\lib\\site-packages (from pandas>=0.21->statsmodels) (2020.1)\n",
      "Requirement already satisfied: six in c:\\users\\sk074909\\appdata\\roaming\\python\\python37\\site-packages (from patsy>=0.5->statsmodels) (1.14.0)\n",
      "Note: you may need to restart the kernel to use updated packages.\n"
     ]
    }
   ],
   "source": [
    "pip install statsmodels"
   ]
  },
  {
   "cell_type": "code",
   "execution_count": 28,
   "metadata": {},
   "outputs": [
    {
     "name": "stdout",
     "output_type": "stream",
     "text": [
      "Requirement already satisfied: flask in c:\\users\\sk074909\\anaconda3\\envs\\rython\\lib\\site-packages (1.1.2)\n",
      "Requirement already satisfied: click>=5.1 in c:\\users\\sk074909\\anaconda3\\envs\\rython\\lib\\site-packages (from flask) (7.1.2)\n",
      "Requirement already satisfied: Werkzeug>=0.15 in c:\\users\\sk074909\\appdata\\roaming\\python\\python37\\site-packages (from flask) (1.0.0)\n",
      "Requirement already satisfied: Jinja2>=2.10.1 in c:\\users\\sk074909\\anaconda3\\envs\\rython\\lib\\site-packages (from flask) (2.11.2)\n",
      "Requirement already satisfied: itsdangerous>=0.24 in c:\\users\\sk074909\\anaconda3\\envs\\rython\\lib\\site-packages (from flask) (1.1.0)\n",
      "Requirement already satisfied: MarkupSafe>=0.23 in c:\\users\\sk074909\\anaconda3\\envs\\rython\\lib\\site-packages (from Jinja2>=2.10.1->flask) (1.1.1)Note: you may need to restart the kernel to use updated packages.\n",
      "\n"
     ]
    }
   ],
   "source": [
    "pip install flask"
   ]
  },
  {
   "cell_type": "code",
   "execution_count": 29,
   "metadata": {},
   "outputs": [],
   "source": [
    "import seaborn as sns\n",
    "\n",
    "import statsmodels.api as sm\n",
    "from statsmodels.formula.api import ols\n",
    "import statsmodels.stats.multicomp"
   ]
  },
  {
   "cell_type": "code",
   "execution_count": 30,
   "metadata": {},
   "outputs": [],
   "source": [
    "model = ols('bank_account ~ marital_status', data=df).fit()\n",
    "aov_table=sm.stats.anova_lm(model,typ=2)"
   ]
  },
  {
   "cell_type": "code",
   "execution_count": 31,
   "metadata": {},
   "outputs": [
    {
     "data": {
      "text/html": [
       "<table class=\"simpletable\">\n",
       "<caption>OLS Regression Results</caption>\n",
       "<tr>\n",
       "  <th>Dep. Variable:</th>      <td>bank_account</td>   <th>  R-squared:         </th> <td>   0.002</td> \n",
       "</tr>\n",
       "<tr>\n",
       "  <th>Model:</th>                   <td>OLS</td>       <th>  Adj. R-squared:    </th> <td>   0.002</td> \n",
       "</tr>\n",
       "<tr>\n",
       "  <th>Method:</th>             <td>Least Squares</td>  <th>  F-statistic:       </th> <td>   29.68</td> \n",
       "</tr>\n",
       "<tr>\n",
       "  <th>Date:</th>             <td>Thu, 04 Jun 2020</td> <th>  Prob (F-statistic):</th> <td>5.15e-08</td> \n",
       "</tr>\n",
       "<tr>\n",
       "  <th>Time:</th>                 <td>22:53:08</td>     <th>  Log-Likelihood:    </th> <td> -6867.8</td> \n",
       "</tr>\n",
       "<tr>\n",
       "  <th>No. Observations:</th>      <td> 18819</td>      <th>  AIC:               </th> <td>1.374e+04</td>\n",
       "</tr>\n",
       "<tr>\n",
       "  <th>Df Residuals:</th>          <td> 18817</td>      <th>  BIC:               </th> <td>1.376e+04</td>\n",
       "</tr>\n",
       "<tr>\n",
       "  <th>Df Model:</th>              <td>     1</td>      <th>                     </th>     <td> </td>    \n",
       "</tr>\n",
       "<tr>\n",
       "  <th>Covariance Type:</th>      <td>nonrobust</td>    <th>                     </th>     <td> </td>    \n",
       "</tr>\n",
       "</table>\n",
       "<table class=\"simpletable\">\n",
       "<tr>\n",
       "         <td></td>           <th>coef</th>     <th>std err</th>      <th>t</th>      <th>P>|t|</th>  <th>[0.025</th>    <th>0.975]</th>  \n",
       "</tr>\n",
       "<tr>\n",
       "  <th>Intercept</th>      <td>    0.1749</td> <td>    0.007</td> <td>   26.526</td> <td> 0.000</td> <td>    0.162</td> <td>    0.188</td>\n",
       "</tr>\n",
       "<tr>\n",
       "  <th>marital_status</th> <td>   -0.0138</td> <td>    0.003</td> <td>   -5.448</td> <td> 0.000</td> <td>   -0.019</td> <td>   -0.009</td>\n",
       "</tr>\n",
       "</table>\n",
       "<table class=\"simpletable\">\n",
       "<tr>\n",
       "  <th>Omnibus:</th>       <td>6678.424</td> <th>  Durbin-Watson:     </th> <td>   1.993</td> \n",
       "</tr>\n",
       "<tr>\n",
       "  <th>Prob(Omnibus):</th>  <td> 0.000</td>  <th>  Jarque-Bera (JB):  </th> <td>16994.579</td>\n",
       "</tr>\n",
       "<tr>\n",
       "  <th>Skew:</th>           <td> 2.049</td>  <th>  Prob(JB):          </th> <td>    0.00</td> \n",
       "</tr>\n",
       "<tr>\n",
       "  <th>Kurtosis:</th>       <td> 5.210</td>  <th>  Cond. No.          </th> <td>    7.60</td> \n",
       "</tr>\n",
       "</table><br/><br/>Warnings:<br/>[1] Standard Errors assume that the covariance matrix of the errors is correctly specified."
      ],
      "text/plain": [
       "<class 'statsmodels.iolib.summary.Summary'>\n",
       "\"\"\"\n",
       "                            OLS Regression Results                            \n",
       "==============================================================================\n",
       "Dep. Variable:           bank_account   R-squared:                       0.002\n",
       "Model:                            OLS   Adj. R-squared:                  0.002\n",
       "Method:                 Least Squares   F-statistic:                     29.68\n",
       "Date:                Thu, 04 Jun 2020   Prob (F-statistic):           5.15e-08\n",
       "Time:                        22:53:08   Log-Likelihood:                -6867.8\n",
       "No. Observations:               18819   AIC:                         1.374e+04\n",
       "Df Residuals:                   18817   BIC:                         1.376e+04\n",
       "Df Model:                           1                                         \n",
       "Covariance Type:            nonrobust                                         \n",
       "==================================================================================\n",
       "                     coef    std err          t      P>|t|      [0.025      0.975]\n",
       "----------------------------------------------------------------------------------\n",
       "Intercept          0.1749      0.007     26.526      0.000       0.162       0.188\n",
       "marital_status    -0.0138      0.003     -5.448      0.000      -0.019      -0.009\n",
       "==============================================================================\n",
       "Omnibus:                     6678.424   Durbin-Watson:                   1.993\n",
       "Prob(Omnibus):                  0.000   Jarque-Bera (JB):            16994.579\n",
       "Skew:                           2.049   Prob(JB):                         0.00\n",
       "Kurtosis:                       5.210   Cond. No.                         7.60\n",
       "==============================================================================\n",
       "\n",
       "Warnings:\n",
       "[1] Standard Errors assume that the covariance matrix of the errors is correctly specified.\n",
       "\"\"\""
      ]
     },
     "execution_count": 31,
     "metadata": {},
     "output_type": "execute_result"
    }
   ],
   "source": [
    "model.summary()"
   ]
  },
  {
   "cell_type": "code",
   "execution_count": 32,
   "metadata": {},
   "outputs": [
    {
     "data": {
      "text/html": [
       "<div>\n",
       "<style scoped>\n",
       "    .dataframe tbody tr th:only-of-type {\n",
       "        vertical-align: middle;\n",
       "    }\n",
       "\n",
       "    .dataframe tbody tr th {\n",
       "        vertical-align: top;\n",
       "    }\n",
       "\n",
       "    .dataframe thead th {\n",
       "        text-align: right;\n",
       "    }\n",
       "</style>\n",
       "<table border=\"1\" class=\"dataframe\">\n",
       "  <thead>\n",
       "    <tr style=\"text-align: right;\">\n",
       "      <th></th>\n",
       "      <th>sum_sq</th>\n",
       "      <th>df</th>\n",
       "      <th>F</th>\n",
       "      <th>PR(&gt;F)</th>\n",
       "    </tr>\n",
       "  </thead>\n",
       "  <tbody>\n",
       "    <tr>\n",
       "      <th>marital_status</th>\n",
       "      <td>3.606510</td>\n",
       "      <td>1.0</td>\n",
       "      <td>29.684754</td>\n",
       "      <td>5.147104e-08</td>\n",
       "    </tr>\n",
       "    <tr>\n",
       "      <th>Residual</th>\n",
       "      <td>2286.146824</td>\n",
       "      <td>18817.0</td>\n",
       "      <td>NaN</td>\n",
       "      <td>NaN</td>\n",
       "    </tr>\n",
       "  </tbody>\n",
       "</table>\n",
       "</div>"
      ],
      "text/plain": [
       "                     sum_sq       df          F        PR(>F)\n",
       "marital_status     3.606510      1.0  29.684754  5.147104e-08\n",
       "Residual        2286.146824  18817.0        NaN           NaN"
      ]
     },
     "execution_count": 32,
     "metadata": {},
     "output_type": "execute_result"
    }
   ],
   "source": [
    "aov_table"
   ]
  },
  {
   "cell_type": "code",
   "execution_count": 33,
   "metadata": {},
   "outputs": [
    {
     "data": {
      "text/html": [
       "<div>\n",
       "<style scoped>\n",
       "    .dataframe tbody tr th:only-of-type {\n",
       "        vertical-align: middle;\n",
       "    }\n",
       "\n",
       "    .dataframe tbody tr th {\n",
       "        vertical-align: top;\n",
       "    }\n",
       "\n",
       "    .dataframe thead th {\n",
       "        text-align: right;\n",
       "    }\n",
       "</style>\n",
       "<table border=\"1\" class=\"dataframe\">\n",
       "  <thead>\n",
       "    <tr style=\"text-align: right;\">\n",
       "      <th></th>\n",
       "      <th>sum_sq</th>\n",
       "      <th>df</th>\n",
       "      <th>F</th>\n",
       "      <th>PR(&gt;F)</th>\n",
       "    </tr>\n",
       "  </thead>\n",
       "  <tbody>\n",
       "    <tr>\n",
       "      <th>education_level</th>\n",
       "      <td>242.795107</td>\n",
       "      <td>1.0</td>\n",
       "      <td>2231.933933</td>\n",
       "      <td>0.0</td>\n",
       "    </tr>\n",
       "    <tr>\n",
       "      <th>Residual</th>\n",
       "      <td>2046.958227</td>\n",
       "      <td>18817.0</td>\n",
       "      <td>NaN</td>\n",
       "      <td>NaN</td>\n",
       "    </tr>\n",
       "  </tbody>\n",
       "</table>\n",
       "</div>"
      ],
      "text/plain": [
       "                      sum_sq       df            F  PR(>F)\n",
       "education_level   242.795107      1.0  2231.933933     0.0\n",
       "Residual         2046.958227  18817.0          NaN     NaN"
      ]
     },
     "execution_count": 33,
     "metadata": {},
     "output_type": "execute_result"
    }
   ],
   "source": [
    "model = ols('bank_account ~ education_level', data=df).fit()\n",
    "aov_table=sm.stats.anova_lm(model,typ=2)\n",
    "aov_table"
   ]
  },
  {
   "cell_type": "code",
   "execution_count": 34,
   "metadata": {},
   "outputs": [
    {
     "data": {
      "text/html": [
       "<div>\n",
       "<style scoped>\n",
       "    .dataframe tbody tr th:only-of-type {\n",
       "        vertical-align: middle;\n",
       "    }\n",
       "\n",
       "    .dataframe tbody tr th {\n",
       "        vertical-align: top;\n",
       "    }\n",
       "\n",
       "    .dataframe thead th {\n",
       "        text-align: right;\n",
       "    }\n",
       "</style>\n",
       "<table border=\"1\" class=\"dataframe\">\n",
       "  <thead>\n",
       "    <tr style=\"text-align: right;\">\n",
       "      <th></th>\n",
       "      <th>sum_sq</th>\n",
       "      <th>df</th>\n",
       "      <th>F</th>\n",
       "      <th>PR(&gt;F)</th>\n",
       "    </tr>\n",
       "  </thead>\n",
       "  <tbody>\n",
       "    <tr>\n",
       "      <th>job_type</th>\n",
       "      <td>9.899013</td>\n",
       "      <td>1.0</td>\n",
       "      <td>81.702468</td>\n",
       "      <td>1.731951e-19</td>\n",
       "    </tr>\n",
       "    <tr>\n",
       "      <th>Residual</th>\n",
       "      <td>2279.854322</td>\n",
       "      <td>18817.0</td>\n",
       "      <td>NaN</td>\n",
       "      <td>NaN</td>\n",
       "    </tr>\n",
       "  </tbody>\n",
       "</table>\n",
       "</div>"
      ],
      "text/plain": [
       "               sum_sq       df          F        PR(>F)\n",
       "job_type     9.899013      1.0  81.702468  1.731951e-19\n",
       "Residual  2279.854322  18817.0        NaN           NaN"
      ]
     },
     "execution_count": 34,
     "metadata": {},
     "output_type": "execute_result"
    }
   ],
   "source": [
    "model = ols('bank_account ~ job_type', data=df).fit()\n",
    "aov_table=sm.stats.anova_lm(model,typ=2)\n",
    "aov_table"
   ]
  },
  {
   "cell_type": "code",
   "execution_count": 35,
   "metadata": {},
   "outputs": [
    {
     "data": {
      "text/html": [
       "<div>\n",
       "<style scoped>\n",
       "    .dataframe tbody tr th:only-of-type {\n",
       "        vertical-align: middle;\n",
       "    }\n",
       "\n",
       "    .dataframe tbody tr th {\n",
       "        vertical-align: top;\n",
       "    }\n",
       "\n",
       "    .dataframe thead th {\n",
       "        text-align: right;\n",
       "    }\n",
       "</style>\n",
       "<table border=\"1\" class=\"dataframe\">\n",
       "  <thead>\n",
       "    <tr style=\"text-align: right;\">\n",
       "      <th></th>\n",
       "      <th>sum_sq</th>\n",
       "      <th>df</th>\n",
       "      <th>F</th>\n",
       "      <th>PR(&gt;F)</th>\n",
       "    </tr>\n",
       "  </thead>\n",
       "  <tbody>\n",
       "    <tr>\n",
       "      <th>relationship_with_head</th>\n",
       "      <td>11.580564</td>\n",
       "      <td>1.0</td>\n",
       "      <td>95.651867</td>\n",
       "      <td>1.550013e-22</td>\n",
       "    </tr>\n",
       "    <tr>\n",
       "      <th>Residual</th>\n",
       "      <td>2278.172770</td>\n",
       "      <td>18817.0</td>\n",
       "      <td>NaN</td>\n",
       "      <td>NaN</td>\n",
       "    </tr>\n",
       "  </tbody>\n",
       "</table>\n",
       "</div>"
      ],
      "text/plain": [
       "                             sum_sq       df          F        PR(>F)\n",
       "relationship_with_head    11.580564      1.0  95.651867  1.550013e-22\n",
       "Residual                2278.172770  18817.0        NaN           NaN"
      ]
     },
     "execution_count": 35,
     "metadata": {},
     "output_type": "execute_result"
    }
   ],
   "source": [
    "model = ols('bank_account ~ relationship_with_head', data=df).fit()\n",
    "aov_table=sm.stats.anova_lm(model,typ=2)\n",
    "aov_table"
   ]
  },
  {
   "cell_type": "code",
   "execution_count": 36,
   "metadata": {},
   "outputs": [
    {
     "data": {
      "text/html": [
       "<div>\n",
       "<style scoped>\n",
       "    .dataframe tbody tr th:only-of-type {\n",
       "        vertical-align: middle;\n",
       "    }\n",
       "\n",
       "    .dataframe tbody tr th {\n",
       "        vertical-align: top;\n",
       "    }\n",
       "\n",
       "    .dataframe thead th {\n",
       "        text-align: right;\n",
       "    }\n",
       "</style>\n",
       "<table border=\"1\" class=\"dataframe\">\n",
       "  <thead>\n",
       "    <tr style=\"text-align: right;\">\n",
       "      <th></th>\n",
       "      <th>sum_sq</th>\n",
       "      <th>df</th>\n",
       "      <th>F</th>\n",
       "      <th>PR(&gt;F)</th>\n",
       "    </tr>\n",
       "  </thead>\n",
       "  <tbody>\n",
       "    <tr>\n",
       "      <th>gender_of_respondent</th>\n",
       "      <td>30.632955</td>\n",
       "      <td>1.0</td>\n",
       "      <td>255.152541</td>\n",
       "      <td>4.638561e-57</td>\n",
       "    </tr>\n",
       "    <tr>\n",
       "      <th>Residual</th>\n",
       "      <td>2259.120380</td>\n",
       "      <td>18817.0</td>\n",
       "      <td>NaN</td>\n",
       "      <td>NaN</td>\n",
       "    </tr>\n",
       "  </tbody>\n",
       "</table>\n",
       "</div>"
      ],
      "text/plain": [
       "                           sum_sq       df           F        PR(>F)\n",
       "gender_of_respondent    30.632955      1.0  255.152541  4.638561e-57\n",
       "Residual              2259.120380  18817.0         NaN           NaN"
      ]
     },
     "execution_count": 36,
     "metadata": {},
     "output_type": "execute_result"
    }
   ],
   "source": [
    "\n",
    "model = ols('bank_account ~ gender_of_respondent', data=df).fit()\n",
    "aov_table=sm.stats.anova_lm(model,typ=2)\n",
    "aov_table"
   ]
  },
  {
   "cell_type": "code",
   "execution_count": 37,
   "metadata": {},
   "outputs": [
    {
     "data": {
      "text/html": [
       "<div>\n",
       "<style scoped>\n",
       "    .dataframe tbody tr th:only-of-type {\n",
       "        vertical-align: middle;\n",
       "    }\n",
       "\n",
       "    .dataframe tbody tr th {\n",
       "        vertical-align: top;\n",
       "    }\n",
       "\n",
       "    .dataframe thead th {\n",
       "        text-align: right;\n",
       "    }\n",
       "</style>\n",
       "<table border=\"1\" class=\"dataframe\">\n",
       "  <thead>\n",
       "    <tr style=\"text-align: right;\">\n",
       "      <th></th>\n",
       "      <th>sum_sq</th>\n",
       "      <th>df</th>\n",
       "      <th>F</th>\n",
       "      <th>PR(&gt;F)</th>\n",
       "    </tr>\n",
       "  </thead>\n",
       "  <tbody>\n",
       "    <tr>\n",
       "      <th>age_of_respondent</th>\n",
       "      <td>1.041783</td>\n",
       "      <td>1.0</td>\n",
       "      <td>8.565181</td>\n",
       "      <td>0.003431</td>\n",
       "    </tr>\n",
       "    <tr>\n",
       "      <th>Residual</th>\n",
       "      <td>2288.711551</td>\n",
       "      <td>18817.0</td>\n",
       "      <td>NaN</td>\n",
       "      <td>NaN</td>\n",
       "    </tr>\n",
       "  </tbody>\n",
       "</table>\n",
       "</div>"
      ],
      "text/plain": [
       "                        sum_sq       df         F    PR(>F)\n",
       "age_of_respondent     1.041783      1.0  8.565181  0.003431\n",
       "Residual           2288.711551  18817.0       NaN       NaN"
      ]
     },
     "execution_count": 37,
     "metadata": {},
     "output_type": "execute_result"
    }
   ],
   "source": [
    "model = ols('bank_account ~ age_of_respondent', data=df).fit()\n",
    "aov_table=sm.stats.anova_lm(model,typ=2)\n",
    "aov_table"
   ]
  },
  {
   "cell_type": "code",
   "execution_count": 38,
   "metadata": {},
   "outputs": [
    {
     "data": {
      "text/html": [
       "<div>\n",
       "<style scoped>\n",
       "    .dataframe tbody tr th:only-of-type {\n",
       "        vertical-align: middle;\n",
       "    }\n",
       "\n",
       "    .dataframe tbody tr th {\n",
       "        vertical-align: top;\n",
       "    }\n",
       "\n",
       "    .dataframe thead th {\n",
       "        text-align: right;\n",
       "    }\n",
       "</style>\n",
       "<table border=\"1\" class=\"dataframe\">\n",
       "  <thead>\n",
       "    <tr style=\"text-align: right;\">\n",
       "      <th></th>\n",
       "      <th>sum_sq</th>\n",
       "      <th>df</th>\n",
       "      <th>F</th>\n",
       "      <th>PR(&gt;F)</th>\n",
       "    </tr>\n",
       "  </thead>\n",
       "  <tbody>\n",
       "    <tr>\n",
       "      <th>household_size</th>\n",
       "      <td>1.879136</td>\n",
       "      <td>1.0</td>\n",
       "      <td>15.455264</td>\n",
       "      <td>0.000085</td>\n",
       "    </tr>\n",
       "    <tr>\n",
       "      <th>Residual</th>\n",
       "      <td>2287.874199</td>\n",
       "      <td>18817.0</td>\n",
       "      <td>NaN</td>\n",
       "      <td>NaN</td>\n",
       "    </tr>\n",
       "  </tbody>\n",
       "</table>\n",
       "</div>"
      ],
      "text/plain": [
       "                     sum_sq       df          F    PR(>F)\n",
       "household_size     1.879136      1.0  15.455264  0.000085\n",
       "Residual        2287.874199  18817.0        NaN       NaN"
      ]
     },
     "execution_count": 38,
     "metadata": {},
     "output_type": "execute_result"
    }
   ],
   "source": [
    "model = ols('bank_account ~ household_size', data=df).fit()\n",
    "aov_table=sm.stats.anova_lm(model,typ=2)\n",
    "aov_table"
   ]
  },
  {
   "cell_type": "code",
   "execution_count": 39,
   "metadata": {},
   "outputs": [
    {
     "data": {
      "text/html": [
       "<div>\n",
       "<style scoped>\n",
       "    .dataframe tbody tr th:only-of-type {\n",
       "        vertical-align: middle;\n",
       "    }\n",
       "\n",
       "    .dataframe tbody tr th {\n",
       "        vertical-align: top;\n",
       "    }\n",
       "\n",
       "    .dataframe thead th {\n",
       "        text-align: right;\n",
       "    }\n",
       "</style>\n",
       "<table border=\"1\" class=\"dataframe\">\n",
       "  <thead>\n",
       "    <tr style=\"text-align: right;\">\n",
       "      <th></th>\n",
       "      <th>sum_sq</th>\n",
       "      <th>df</th>\n",
       "      <th>F</th>\n",
       "      <th>PR(&gt;F)</th>\n",
       "    </tr>\n",
       "  </thead>\n",
       "  <tbody>\n",
       "    <tr>\n",
       "      <th>cellphone_access</th>\n",
       "      <td>102.833029</td>\n",
       "      <td>1.0</td>\n",
       "      <td>884.810067</td>\n",
       "      <td>4.834916e-190</td>\n",
       "    </tr>\n",
       "    <tr>\n",
       "      <th>Residual</th>\n",
       "      <td>2186.920306</td>\n",
       "      <td>18817.0</td>\n",
       "      <td>NaN</td>\n",
       "      <td>NaN</td>\n",
       "    </tr>\n",
       "  </tbody>\n",
       "</table>\n",
       "</div>"
      ],
      "text/plain": [
       "                       sum_sq       df           F         PR(>F)\n",
       "cellphone_access   102.833029      1.0  884.810067  4.834916e-190\n",
       "Residual          2186.920306  18817.0         NaN            NaN"
      ]
     },
     "execution_count": 39,
     "metadata": {},
     "output_type": "execute_result"
    }
   ],
   "source": [
    "model = ols('bank_account ~ cellphone_access', data=df).fit()\n",
    "aov_table=sm.stats.anova_lm(model,typ=2)\n",
    "aov_table"
   ]
  },
  {
   "cell_type": "code",
   "execution_count": 40,
   "metadata": {},
   "outputs": [
    {
     "data": {
      "text/html": [
       "<div>\n",
       "<style scoped>\n",
       "    .dataframe tbody tr th:only-of-type {\n",
       "        vertical-align: middle;\n",
       "    }\n",
       "\n",
       "    .dataframe tbody tr th {\n",
       "        vertical-align: top;\n",
       "    }\n",
       "\n",
       "    .dataframe thead th {\n",
       "        text-align: right;\n",
       "    }\n",
       "</style>\n",
       "<table border=\"1\" class=\"dataframe\">\n",
       "  <thead>\n",
       "    <tr style=\"text-align: right;\">\n",
       "      <th></th>\n",
       "      <th>sum_sq</th>\n",
       "      <th>df</th>\n",
       "      <th>F</th>\n",
       "      <th>PR(&gt;F)</th>\n",
       "    </tr>\n",
       "  </thead>\n",
       "  <tbody>\n",
       "    <tr>\n",
       "      <th>location_type</th>\n",
       "      <td>16.833548</td>\n",
       "      <td>1.0</td>\n",
       "      <td>139.361222</td>\n",
       "      <td>4.764423e-32</td>\n",
       "    </tr>\n",
       "    <tr>\n",
       "      <th>Residual</th>\n",
       "      <td>2272.919786</td>\n",
       "      <td>18817.0</td>\n",
       "      <td>NaN</td>\n",
       "      <td>NaN</td>\n",
       "    </tr>\n",
       "  </tbody>\n",
       "</table>\n",
       "</div>"
      ],
      "text/plain": [
       "                    sum_sq       df           F        PR(>F)\n",
       "location_type    16.833548      1.0  139.361222  4.764423e-32\n",
       "Residual       2272.919786  18817.0         NaN           NaN"
      ]
     },
     "execution_count": 40,
     "metadata": {},
     "output_type": "execute_result"
    }
   ],
   "source": [
    "model = ols('bank_account ~ location_type', data=df).fit()\n",
    "aov_table=sm.stats.anova_lm(model,typ=2)\n",
    "aov_table"
   ]
  },
  {
   "cell_type": "code",
   "execution_count": 41,
   "metadata": {},
   "outputs": [
    {
     "data": {
      "text/html": [
       "<div>\n",
       "<style scoped>\n",
       "    .dataframe tbody tr th:only-of-type {\n",
       "        vertical-align: middle;\n",
       "    }\n",
       "\n",
       "    .dataframe tbody tr th {\n",
       "        vertical-align: top;\n",
       "    }\n",
       "\n",
       "    .dataframe thead th {\n",
       "        text-align: right;\n",
       "    }\n",
       "</style>\n",
       "<table border=\"1\" class=\"dataframe\">\n",
       "  <thead>\n",
       "    <tr style=\"text-align: right;\">\n",
       "      <th></th>\n",
       "      <th>sum_sq</th>\n",
       "      <th>df</th>\n",
       "      <th>F</th>\n",
       "      <th>PR(&gt;F)</th>\n",
       "    </tr>\n",
       "  </thead>\n",
       "  <tbody>\n",
       "    <tr>\n",
       "      <th>year</th>\n",
       "      <td>27.253642</td>\n",
       "      <td>1.0</td>\n",
       "      <td>226.666009</td>\n",
       "      <td>6.297018e-51</td>\n",
       "    </tr>\n",
       "    <tr>\n",
       "      <th>Residual</th>\n",
       "      <td>2262.499693</td>\n",
       "      <td>18817.0</td>\n",
       "      <td>NaN</td>\n",
       "      <td>NaN</td>\n",
       "    </tr>\n",
       "  </tbody>\n",
       "</table>\n",
       "</div>"
      ],
      "text/plain": [
       "               sum_sq       df           F        PR(>F)\n",
       "year        27.253642      1.0  226.666009  6.297018e-51\n",
       "Residual  2262.499693  18817.0         NaN           NaN"
      ]
     },
     "execution_count": 41,
     "metadata": {},
     "output_type": "execute_result"
    }
   ],
   "source": [
    "model = ols('bank_account ~ year', data=df).fit()\n",
    "aov_table=sm.stats.anova_lm(model,typ=2)\n",
    "aov_table"
   ]
  },
  {
   "cell_type": "code",
   "execution_count": 42,
   "metadata": {},
   "outputs": [],
   "source": [
    "df1=df.drop(['bank_account','uniqueid'],axis=1)"
   ]
  },
  {
   "cell_type": "markdown",
   "metadata": {},
   "source": [
    "# Modelling - without removing outliers"
   ]
  },
  {
   "cell_type": "code",
   "execution_count": 43,
   "metadata": {},
   "outputs": [],
   "source": [
    "from sklearn.model_selection import train_test_split\n",
    "y=df['bank_account']\n",
    "\n",
    "X_train, X_test, y_train, y_test = train_test_split(df1, y, test_size=0.33, random_state=42)"
   ]
  },
  {
   "cell_type": "code",
   "execution_count": 44,
   "metadata": {},
   "outputs": [
    {
     "name": "stderr",
     "output_type": "stream",
     "text": [
      "C:\\Users\\SK074909\\Anaconda3\\envs\\Rython\\lib\\site-packages\\sklearn\\linear_model\\_logistic.py:764: ConvergenceWarning: lbfgs failed to converge (status=1):\n",
      "STOP: TOTAL NO. of ITERATIONS REACHED LIMIT.\n",
      "\n",
      "Increase the number of iterations (max_iter) or scale the data as shown in:\n",
      "    https://scikit-learn.org/stable/modules/preprocessing.html\n",
      "Please also refer to the documentation for alternative solver options:\n",
      "    https://scikit-learn.org/stable/modules/linear_model.html#logistic-regression\n",
      "  extra_warning_msg=_LOGISTIC_SOLVER_CONVERGENCE_MSG)\n"
     ]
    }
   ],
   "source": [
    "from sklearn.linear_model import LogisticRegression\n",
    "clf = LogisticRegression(random_state=34).fit(X_train, y_train)\n",
    "train_pred=clf.predict(X_train)"
   ]
  },
  {
   "cell_type": "code",
   "execution_count": 45,
   "metadata": {},
   "outputs": [
    {
     "data": {
      "text/plain": [
       "1.0"
      ]
     },
     "execution_count": 45,
     "metadata": {},
     "output_type": "execute_result"
    }
   ],
   "source": [
    "clf.score(X_train,train_pred)"
   ]
  },
  {
   "cell_type": "code",
   "execution_count": 46,
   "metadata": {},
   "outputs": [
    {
     "data": {
      "text/plain": [
       "1.0"
      ]
     },
     "execution_count": 46,
     "metadata": {},
     "output_type": "execute_result"
    }
   ],
   "source": [
    "train_pred=clf.predict(X_test)\n",
    "clf.score(X_test,train_pred)"
   ]
  },
  {
   "cell_type": "markdown",
   "metadata": {},
   "source": [
    "The model is overfitting "
   ]
  },
  {
   "cell_type": "markdown",
   "metadata": {},
   "source": [
    "# Removing Outliers and Modelling "
   ]
  },
  {
   "cell_type": "code",
   "execution_count": 47,
   "metadata": {},
   "outputs": [],
   "source": [
    "df=df[df['age_of_respondent']<82]"
   ]
  },
  {
   "cell_type": "code",
   "execution_count": 48,
   "metadata": {},
   "outputs": [
    {
     "data": {
      "text/html": [
       "<div>\n",
       "<style scoped>\n",
       "    .dataframe tbody tr th:only-of-type {\n",
       "        vertical-align: middle;\n",
       "    }\n",
       "\n",
       "    .dataframe tbody tr th {\n",
       "        vertical-align: top;\n",
       "    }\n",
       "\n",
       "    .dataframe thead th {\n",
       "        text-align: right;\n",
       "    }\n",
       "</style>\n",
       "<table border=\"1\" class=\"dataframe\">\n",
       "  <thead>\n",
       "    <tr style=\"text-align: right;\">\n",
       "      <th></th>\n",
       "      <th>country</th>\n",
       "      <th>year</th>\n",
       "      <th>uniqueid</th>\n",
       "      <th>bank_account</th>\n",
       "      <th>location_type</th>\n",
       "      <th>cellphone_access</th>\n",
       "      <th>household_size</th>\n",
       "      <th>age_of_respondent</th>\n",
       "      <th>gender_of_respondent</th>\n",
       "      <th>relationship_with_head</th>\n",
       "      <th>marital_status</th>\n",
       "      <th>education_level</th>\n",
       "      <th>job_type</th>\n",
       "    </tr>\n",
       "  </thead>\n",
       "  <tbody>\n",
       "  </tbody>\n",
       "</table>\n",
       "</div>"
      ],
      "text/plain": [
       "Empty DataFrame\n",
       "Columns: [country, year, uniqueid, bank_account, location_type, cellphone_access, household_size, age_of_respondent, gender_of_respondent, relationship_with_head, marital_status, education_level, job_type]\n",
       "Index: []"
      ]
     },
     "execution_count": 48,
     "metadata": {},
     "output_type": "execute_result"
    }
   ],
   "source": [
    "df[df['age_of_respondent']>=82]"
   ]
  },
  {
   "cell_type": "code",
   "execution_count": 49,
   "metadata": {},
   "outputs": [],
   "source": [
    "df=df[df['household_size']<=9]"
   ]
  },
  {
   "cell_type": "code",
   "execution_count": 50,
   "metadata": {},
   "outputs": [],
   "source": [
    "from sklearn.model_selection import train_test_split\n",
    "y=df['bank_account']\n",
    "df2=df.drop(['bank_account','uniqueid'],axis=1)\n",
    "X_train, X_test, y_train, y_test = train_test_split(df2, y, test_size=0.33, random_state=42)"
   ]
  },
  {
   "cell_type": "code",
   "execution_count": 51,
   "metadata": {},
   "outputs": [],
   "source": [
    "from sklearn.linear_model import LogisticRegression\n",
    "clf = LogisticRegression(random_state=34).fit(X_train, y_train)\n",
    "train_pred=clf.predict(X_train)"
   ]
  },
  {
   "cell_type": "code",
   "execution_count": 52,
   "metadata": {},
   "outputs": [
    {
     "data": {
      "text/plain": [
       "1.0"
      ]
     },
     "execution_count": 52,
     "metadata": {},
     "output_type": "execute_result"
    }
   ],
   "source": [
    "clf.score(X_train,train_pred)"
   ]
  },
  {
   "cell_type": "code",
   "execution_count": 53,
   "metadata": {},
   "outputs": [
    {
     "data": {
      "text/plain": [
       "1.0"
      ]
     },
     "execution_count": 53,
     "metadata": {},
     "output_type": "execute_result"
    }
   ],
   "source": [
    "test_pred=clf.predict(X_test)\n",
    "clf.score(X_test,test_pred)"
   ]
  },
  {
   "cell_type": "code",
   "execution_count": 54,
   "metadata": {},
   "outputs": [
    {
     "name": "stdout",
     "output_type": "stream",
     "text": [
      "              precision    recall  f1-score   support\n",
      "\n",
      "           0       0.88      0.98      0.93      5153\n",
      "           1       0.66      0.24      0.35       872\n",
      "\n",
      "    accuracy                           0.87      6025\n",
      "   macro avg       0.77      0.61      0.64      6025\n",
      "weighted avg       0.85      0.87      0.85      6025\n",
      "\n"
     ]
    }
   ],
   "source": [
    "from sklearn.metrics import classification_report\n",
    "print(classification_report(y_test, test_pred))"
   ]
  },
  {
   "cell_type": "code",
   "execution_count": 55,
   "metadata": {},
   "outputs": [
    {
     "data": {
      "text/plain": [
       "array([[5047,  106],\n",
       "       [ 663,  209]], dtype=int64)"
      ]
     },
     "execution_count": 55,
     "metadata": {},
     "output_type": "execute_result"
    }
   ],
   "source": [
    "from sklearn.metrics import confusion_matrix\n",
    "confusion_matrix(y_test, test_pred)"
   ]
  },
  {
   "cell_type": "code",
   "execution_count": 56,
   "metadata": {},
   "outputs": [
    {
     "data": {
      "text/plain": [
       "0.6406787576697168"
      ]
     },
     "execution_count": 56,
     "metadata": {},
     "output_type": "execute_result"
    }
   ],
   "source": [
    "from sklearn.metrics import f1_score\n",
    "f1_score(y_test, test_pred, average='macro')"
   ]
  },
  {
   "cell_type": "code",
   "execution_count": 57,
   "metadata": {},
   "outputs": [],
   "source": [
    "from sklearn.ensemble import RandomForestClassifier\n",
    "clf = RandomForestClassifier()"
   ]
  },
  {
   "cell_type": "code",
   "execution_count": 58,
   "metadata": {},
   "outputs": [
    {
     "data": {
      "text/plain": [
       "RandomForestClassifier()"
      ]
     },
     "execution_count": 58,
     "metadata": {},
     "output_type": "execute_result"
    }
   ],
   "source": [
    "clf.fit(X_train, y_train)"
   ]
  },
  {
   "cell_type": "code",
   "execution_count": 59,
   "metadata": {},
   "outputs": [
    {
     "data": {
      "text/plain": [
       "1.0"
      ]
     },
     "execution_count": 59,
     "metadata": {},
     "output_type": "execute_result"
    }
   ],
   "source": [
    "test_pred=clf.predict(X_test)\n",
    "clf.score(X_test,test_pred)"
   ]
  },
  {
   "cell_type": "code",
   "execution_count": 60,
   "metadata": {},
   "outputs": [
    {
     "data": {
      "text/html": [
       "<div>\n",
       "<style scoped>\n",
       "    .dataframe tbody tr th:only-of-type {\n",
       "        vertical-align: middle;\n",
       "    }\n",
       "\n",
       "    .dataframe tbody tr th {\n",
       "        vertical-align: top;\n",
       "    }\n",
       "\n",
       "    .dataframe thead th {\n",
       "        text-align: right;\n",
       "    }\n",
       "</style>\n",
       "<table border=\"1\" class=\"dataframe\">\n",
       "  <thead>\n",
       "    <tr style=\"text-align: right;\">\n",
       "      <th></th>\n",
       "      <th>country</th>\n",
       "      <th>year</th>\n",
       "      <th>location_type</th>\n",
       "      <th>cellphone_access</th>\n",
       "      <th>household_size</th>\n",
       "      <th>age_of_respondent</th>\n",
       "      <th>gender_of_respondent</th>\n",
       "      <th>relationship_with_head</th>\n",
       "      <th>marital_status</th>\n",
       "      <th>education_level</th>\n",
       "      <th>job_type</th>\n",
       "    </tr>\n",
       "  </thead>\n",
       "  <tbody>\n",
       "    <tr>\n",
       "      <th>17933</th>\n",
       "      <td>1</td>\n",
       "      <td>0</td>\n",
       "      <td>0</td>\n",
       "      <td>1</td>\n",
       "      <td>4</td>\n",
       "      <td>27</td>\n",
       "      <td>1</td>\n",
       "      <td>1</td>\n",
       "      <td>2</td>\n",
       "      <td>0</td>\n",
       "      <td>1</td>\n",
       "    </tr>\n",
       "    <tr>\n",
       "      <th>2699</th>\n",
       "      <td>1</td>\n",
       "      <td>0</td>\n",
       "      <td>0</td>\n",
       "      <td>0</td>\n",
       "      <td>8</td>\n",
       "      <td>16</td>\n",
       "      <td>0</td>\n",
       "      <td>0</td>\n",
       "      <td>3</td>\n",
       "      <td>3</td>\n",
       "      <td>8</td>\n",
       "    </tr>\n",
       "    <tr>\n",
       "      <th>1757</th>\n",
       "      <td>1</td>\n",
       "      <td>0</td>\n",
       "      <td>0</td>\n",
       "      <td>0</td>\n",
       "      <td>3</td>\n",
       "      <td>60</td>\n",
       "      <td>0</td>\n",
       "      <td>1</td>\n",
       "      <td>4</td>\n",
       "      <td>0</td>\n",
       "      <td>8</td>\n",
       "    </tr>\n",
       "    <tr>\n",
       "      <th>3924</th>\n",
       "      <td>0</td>\n",
       "      <td>2</td>\n",
       "      <td>0</td>\n",
       "      <td>1</td>\n",
       "      <td>7</td>\n",
       "      <td>52</td>\n",
       "      <td>1</td>\n",
       "      <td>1</td>\n",
       "      <td>2</td>\n",
       "      <td>0</td>\n",
       "      <td>1</td>\n",
       "    </tr>\n",
       "    <tr>\n",
       "      <th>16293</th>\n",
       "      <td>2</td>\n",
       "      <td>1</td>\n",
       "      <td>1</td>\n",
       "      <td>1</td>\n",
       "      <td>1</td>\n",
       "      <td>66</td>\n",
       "      <td>0</td>\n",
       "      <td>1</td>\n",
       "      <td>4</td>\n",
       "      <td>2</td>\n",
       "      <td>9</td>\n",
       "    </tr>\n",
       "    <tr>\n",
       "      <th>...</th>\n",
       "      <td>...</td>\n",
       "      <td>...</td>\n",
       "      <td>...</td>\n",
       "      <td>...</td>\n",
       "      <td>...</td>\n",
       "      <td>...</td>\n",
       "      <td>...</td>\n",
       "      <td>...</td>\n",
       "      <td>...</td>\n",
       "      <td>...</td>\n",
       "      <td>...</td>\n",
       "    </tr>\n",
       "    <tr>\n",
       "      <th>14509</th>\n",
       "      <td>2</td>\n",
       "      <td>1</td>\n",
       "      <td>1</td>\n",
       "      <td>1</td>\n",
       "      <td>2</td>\n",
       "      <td>26</td>\n",
       "      <td>0</td>\n",
       "      <td>5</td>\n",
       "      <td>3</td>\n",
       "      <td>2</td>\n",
       "      <td>6</td>\n",
       "    </tr>\n",
       "    <tr>\n",
       "      <th>2993</th>\n",
       "      <td>0</td>\n",
       "      <td>2</td>\n",
       "      <td>0</td>\n",
       "      <td>1</td>\n",
       "      <td>5</td>\n",
       "      <td>35</td>\n",
       "      <td>0</td>\n",
       "      <td>5</td>\n",
       "      <td>2</td>\n",
       "      <td>2</td>\n",
       "      <td>1</td>\n",
       "    </tr>\n",
       "    <tr>\n",
       "      <th>15532</th>\n",
       "      <td>1</td>\n",
       "      <td>0</td>\n",
       "      <td>0</td>\n",
       "      <td>0</td>\n",
       "      <td>6</td>\n",
       "      <td>52</td>\n",
       "      <td>1</td>\n",
       "      <td>1</td>\n",
       "      <td>2</td>\n",
       "      <td>2</td>\n",
       "      <td>1</td>\n",
       "    </tr>\n",
       "    <tr>\n",
       "      <th>8078</th>\n",
       "      <td>1</td>\n",
       "      <td>0</td>\n",
       "      <td>1</td>\n",
       "      <td>1</td>\n",
       "      <td>7</td>\n",
       "      <td>19</td>\n",
       "      <td>0</td>\n",
       "      <td>0</td>\n",
       "      <td>3</td>\n",
       "      <td>3</td>\n",
       "      <td>8</td>\n",
       "    </tr>\n",
       "    <tr>\n",
       "      <th>4566</th>\n",
       "      <td>0</td>\n",
       "      <td>2</td>\n",
       "      <td>0</td>\n",
       "      <td>0</td>\n",
       "      <td>3</td>\n",
       "      <td>16</td>\n",
       "      <td>0</td>\n",
       "      <td>0</td>\n",
       "      <td>3</td>\n",
       "      <td>2</td>\n",
       "      <td>8</td>\n",
       "    </tr>\n",
       "  </tbody>\n",
       "</table>\n",
       "<p>6025 rows × 11 columns</p>\n",
       "</div>"
      ],
      "text/plain": [
       "       country  year  location_type  cellphone_access  household_size  \\\n",
       "17933        1     0              0                 1               4   \n",
       "2699         1     0              0                 0               8   \n",
       "1757         1     0              0                 0               3   \n",
       "3924         0     2              0                 1               7   \n",
       "16293        2     1              1                 1               1   \n",
       "...        ...   ...            ...               ...             ...   \n",
       "14509        2     1              1                 1               2   \n",
       "2993         0     2              0                 1               5   \n",
       "15532        1     0              0                 0               6   \n",
       "8078         1     0              1                 1               7   \n",
       "4566         0     2              0                 0               3   \n",
       "\n",
       "       age_of_respondent  gender_of_respondent  relationship_with_head  \\\n",
       "17933                 27                     1                       1   \n",
       "2699                  16                     0                       0   \n",
       "1757                  60                     0                       1   \n",
       "3924                  52                     1                       1   \n",
       "16293                 66                     0                       1   \n",
       "...                  ...                   ...                     ...   \n",
       "14509                 26                     0                       5   \n",
       "2993                  35                     0                       5   \n",
       "15532                 52                     1                       1   \n",
       "8078                  19                     0                       0   \n",
       "4566                  16                     0                       0   \n",
       "\n",
       "       marital_status  education_level  job_type  \n",
       "17933               2                0         1  \n",
       "2699                3                3         8  \n",
       "1757                4                0         8  \n",
       "3924                2                0         1  \n",
       "16293               4                2         9  \n",
       "...               ...              ...       ...  \n",
       "14509               3                2         6  \n",
       "2993                2                2         1  \n",
       "15532               2                2         1  \n",
       "8078                3                3         8  \n",
       "4566                3                2         8  \n",
       "\n",
       "[6025 rows x 11 columns]"
      ]
     },
     "execution_count": 60,
     "metadata": {},
     "output_type": "execute_result"
    }
   ],
   "source": [
    "X_test"
   ]
  },
  {
   "cell_type": "code",
   "execution_count": 61,
   "metadata": {},
   "outputs": [
    {
     "name": "stdout",
     "output_type": "stream",
     "text": [
      "              precision    recall  f1-score   support\n",
      "\n",
      "           0       0.90      0.95      0.92      5153\n",
      "           1       0.56      0.38      0.45       872\n",
      "\n",
      "    accuracy                           0.87      6025\n",
      "   macro avg       0.73      0.66      0.69      6025\n",
      "weighted avg       0.85      0.87      0.86      6025\n",
      "\n"
     ]
    }
   ],
   "source": [
    "from sklearn.metrics import classification_report\n",
    "print(classification_report(y_test, test_pred))"
   ]
  },
  {
   "cell_type": "code",
   "execution_count": 62,
   "metadata": {},
   "outputs": [
    {
     "data": {
      "text/plain": [
       "array([[4889,  264],\n",
       "       [ 541,  331]], dtype=int64)"
      ]
     },
     "execution_count": 62,
     "metadata": {},
     "output_type": "execute_result"
    }
   ],
   "source": [
    "from sklearn.metrics import confusion_matrix\n",
    "confusion_matrix(y_test, test_pred)"
   ]
  },
  {
   "cell_type": "markdown",
   "metadata": {},
   "source": [
    "# Deployment"
   ]
  },
  {
   "cell_type": "code",
   "execution_count": 63,
   "metadata": {},
   "outputs": [],
   "source": [
    "import pickle\n",
    "pickle.dump(clf,open('model.pkl','wb'))"
   ]
  },
  {
   "cell_type": "code",
   "execution_count": null,
   "metadata": {},
   "outputs": [
    {
     "name": "stdout",
     "output_type": "stream",
     "text": [
      " * Serving Flask app \"__main__\" (lazy loading)\n",
      " * Environment: production\n",
      "   WARNING: This is a development server. Do not use it in a production deployment.\n",
      "   Use a production WSGI server instead.\n",
      " * Debug mode: off\n"
     ]
    },
    {
     "name": "stderr",
     "output_type": "stream",
     "text": [
      " * Running on http://127.0.0.1:5000/ (Press CTRL+C to quit)\n",
      "127.0.0.1 - - [05/Jun/2020 20:24:49] \"\u001b[37mGET / HTTP/1.1\u001b[0m\" 200 -\n",
      "127.0.0.1 - - [05/Jun/2020 20:24:49] \"\u001b[36mGET /static/css/style.css HTTP/1.1\u001b[0m\" 304 -\n",
      "127.0.0.1 - - [05/Jun/2020 20:34:19] \"\u001b[37mPOST /predict HTTP/1.1\u001b[0m\" 200 -\n",
      "127.0.0.1 - - [05/Jun/2020 20:35:04] \"\u001b[37mPOST /predict HTTP/1.1\u001b[0m\" 200 -\n"
     ]
    }
   ],
   "source": [
    "from flask import Flask,request,jsonify,render_template\n",
    "import pickle\n",
    "import numpy as np\n",
    "app=Flask(__name__)\n",
    "model=pickle.load(open('model.pkl','rb'))\n",
    "debug=True\n",
    "@app.route('/')\n",
    "def home():\n",
    "    #return render_template('index')\n",
    "    return render_template('index.html')\n",
    "#@app.route('/predict',methods=['POST','GET'])\n",
    "@app.route('/predict',methods=['POST'])\n",
    "def predict():\n",
    "    #print(request.form)\n",
    "    int_features=[int(x) for x in request.form.values()]\n",
    "    final_features=[np.array(int_features)]\n",
    "    prediction=model.predict(final_features)\n",
    "    \n",
    "    output=prediction[0]\n",
    "    \n",
    "    #return render_template('index',prediction_text='Marketimg Team Needs To contact this person by this strategy {}'.format(output))\n",
    "    if output==1:\n",
    "        result='The Person has a bank account'\n",
    "    else:\n",
    "        result=\"The Person doesn't have a bank account\"\n",
    "    return render_template('index.html',prediction_text='{}'.format(result))\n",
    "\n",
    "if __name__=='__main__':\n",
    "    app.run()"
   ]
  },
  {
   "cell_type": "code",
   "execution_count": null,
   "metadata": {},
   "outputs": [],
   "source": []
  }
 ],
 "metadata": {
  "kernelspec": {
   "display_name": "Python 3",
   "language": "python",
   "name": "python3"
  },
  "language_info": {
   "codemirror_mode": {
    "name": "ipython",
    "version": 3
   },
   "file_extension": ".py",
   "mimetype": "text/x-python",
   "name": "python",
   "nbconvert_exporter": "python",
   "pygments_lexer": "ipython3",
   "version": "3.7.1"
  }
 },
 "nbformat": 4,
 "nbformat_minor": 2
}
